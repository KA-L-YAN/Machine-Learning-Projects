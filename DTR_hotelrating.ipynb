{
  "cells": [
    {
      "cell_type": "code",
      "execution_count": 1,
      "metadata": {
        "id": "CRIvDNk6jbrz"
      },
      "outputs": [],
      "source": [
        "import matplotlib.pyplot as plt\n",
        "import pandas as pd\n",
        "import numpy as np\n",
        "import glob\n",
        "import pandas as pd\n",
        "from sklearn.tree import DecisionTreeRegressor\n",
        "r = DecisionTreeRegressor(random_state = 0)"
      ]
    },
    {
      "cell_type": "code",
      "execution_count": 2,
      "metadata": {},
      "outputs": [
        {
          "name": "stdout",
          "output_type": "stream",
          "text": [
            "<class 'list'>\n"
          ]
        }
      ],
      "source": [
        "path = r\"C:\\Users\\PAVAN KALYAN\\Desktop\\VS CODE\\Preds\"\n",
        "csv_files = glob.glob(path + \"/*.csv\")\n",
        "print(type(csv_files))"
      ]
    },
    {
      "cell_type": "code",
      "execution_count": 3,
      "metadata": {},
      "outputs": [],
      "source": [
        "for file in csv_files:\n",
        "    data=pd.read_csv(file)\n",
        "    X=data.iloc[:,2:8].values\n",
        "    Y=data.iloc[:,1].values\n",
        "    r.fit(X, Y)\n",
        "    y_pred=r.predict(X)\n",
        "    df=pd.DataFrame(y_pred)\n",
        "    data.insert(0,'DTR', df)\n",
        "    data.to_csv(file, index = False)\n"
      ]
    },
    {
      "cell_type": "code",
      "execution_count": null,
      "metadata": {
        "id": "LN7oHfZUjdzg"
      },
      "outputs": [],
      "source": []
    },
    {
      "cell_type": "code",
      "execution_count": null,
      "metadata": {
        "colab": {
          "base_uri": "https://localhost:8080/"
        },
        "id": "m9J78wmu7THU",
        "outputId": "37d7b414-cfe4-4539-a11b-ce4c6d069a60"
      },
      "outputs": [],
      "source": [
        "\n",
        "\n"
      ]
    },
    {
      "cell_type": "code",
      "execution_count": null,
      "metadata": {
        "colab": {
          "base_uri": "https://localhost:8080/"
        },
        "id": "OhS364yk_jYx",
        "outputId": "027670dc-a32b-48e1-c03a-8b060e7c559f"
      },
      "outputs": [],
      "source": []
    },
    {
      "cell_type": "code",
      "execution_count": null,
      "metadata": {},
      "outputs": [],
      "source": []
    },
    {
      "cell_type": "code",
      "execution_count": null,
      "metadata": {},
      "outputs": [
        {
          "name": "stdout",
          "output_type": "stream",
          "text": [
            "<class 'pandas.core.frame.DataFrame'>\n",
            "RangeIndex: 181 entries, 0 to 180\n",
            "Data columns (total 10 columns):\n",
            " #   Column                    Non-Null Count  Dtype  \n",
            "---  ------                    --------------  -----  \n",
            " 0   DTR                       181 non-null    float64\n",
            " 1   USER_OVERALL_RATING       181 non-null    int64  \n",
            " 2   PREDICTED_OVERALL_RATING  181 non-null    float64\n",
            " 3   CLEANLINESS               181 non-null    int64  \n",
            " 4   LOCATION                  181 non-null    int64  \n",
            " 5   VALUE                     181 non-null    int64  \n",
            " 6   ROOMS                     181 non-null    int64  \n",
            " 7   SERVICE                   181 non-null    int64  \n",
            " 8   SLEEP_QUALITY             181 non-null    int64  \n",
            " 9   HOTEL_CLASS               181 non-null    int64  \n",
            "dtypes: float64(2), int64(8)\n",
            "memory usage: 14.3 KB\n"
          ]
        }
      ],
      "source": [
        "data.info()"
      ]
    },
    {
      "cell_type": "code",
      "execution_count": null,
      "metadata": {},
      "outputs": [],
      "source": [
        "a=\"data.csv\""
      ]
    },
    {
      "cell_type": "code",
      "execution_count": null,
      "metadata": {},
      "outputs": [],
      "source": []
    },
    {
      "cell_type": "code",
      "execution_count": null,
      "metadata": {},
      "outputs": [],
      "source": []
    }
  ],
  "metadata": {
    "colab": {
      "collapsed_sections": [],
      "name": "DTR_hotelrating.ipynb",
      "provenance": []
    },
    "kernelspec": {
      "display_name": "Python 3.10.6 64-bit",
      "language": "python",
      "name": "python3"
    },
    "language_info": {
      "codemirror_mode": {
        "name": "ipython",
        "version": 3
      },
      "file_extension": ".py",
      "mimetype": "text/x-python",
      "name": "python",
      "nbconvert_exporter": "python",
      "pygments_lexer": "ipython3",
      "version": "3.10.6"
    },
    "vscode": {
      "interpreter": {
        "hash": "a6d9482fb1517366b81de0744afab9fa3debea0b371a078696c3432505ccb117"
      }
    }
  },
  "nbformat": 4,
  "nbformat_minor": 0
}
