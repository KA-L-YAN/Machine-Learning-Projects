{
  "cells": [
    {
      "cell_type": "code",
      "execution_count": 1,
      "metadata": {
        "colab": {
          "base_uri": "https://localhost:8080/"
        },
        "id": "m9J78wmu7THU",
        "outputId": "a66c5c51-ae5e-431e-8c09-cada4fdafd10"
      },
      "outputs": [],
      "source": [
        "import matplotlib.pyplot as plt\n",
        "import pandas as pd\n",
        "import numpy as np\n",
        "import glob\n",
        "import pandas as pd\n",
        "from sklearn.ensemble import RandomForestRegressor\n",
        "r = RandomForestRegressor(n_estimators = 160, random_state = 0)\n",
        "\n"
      ]
    },
    {
      "cell_type": "code",
      "execution_count": 2,
      "metadata": {},
      "outputs": [
        {
          "name": "stdout",
          "output_type": "stream",
          "text": [
            "<class 'list'>\n"
          ]
        }
      ],
      "source": [
        "path = r\"C:\\Users\\PAVAN KALYAN\\Desktop\\VS CODE\\Preds\"\n",
        "csv_files = glob.glob(path + \"/*.csv\")\n",
        "print(type(csv_files))"
      ]
    },
    {
      "cell_type": "code",
      "execution_count": 3,
      "metadata": {},
      "outputs": [],
      "source": [
        "for file in csv_files:\n",
        "    data=pd.read_csv(file)\n",
        "    X=data.iloc[:,3:9].values\n",
        "    Y=data.iloc[:,2].values\n",
        "    r.fit(X, Y)\n",
        "    y_pred=r.predict(X)\n",
        "    df=pd.DataFrame(y_pred)\n",
        "    data.insert(9,'RF', df)\n",
        "    data.to_csv(file, index = False)"
      ]
    },
    {
      "cell_type": "code",
      "execution_count": null,
      "metadata": {},
      "outputs": [],
      "source": []
    }
  ],
  "metadata": {
    "colab": {
      "collapsed_sections": [],
      "name": "RF_hotelrating.ipynb",
      "provenance": []
    },
    "kernelspec": {
      "display_name": "Python 3.10.6 64-bit",
      "language": "python",
      "name": "python3"
    },
    "language_info": {
      "codemirror_mode": {
        "name": "ipython",
        "version": 3
      },
      "file_extension": ".py",
      "mimetype": "text/x-python",
      "name": "python",
      "nbconvert_exporter": "python",
      "pygments_lexer": "ipython3",
      "version": "3.10.6"
    },
    "vscode": {
      "interpreter": {
        "hash": "a6d9482fb1517366b81de0744afab9fa3debea0b371a078696c3432505ccb117"
      }
    }
  },
  "nbformat": 4,
  "nbformat_minor": 0
}
