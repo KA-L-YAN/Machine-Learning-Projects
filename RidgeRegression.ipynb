{
  "cells": [
    {
      "cell_type": "code",
      "execution_count": 1,
      "metadata": {
        "colab": {
          "base_uri": "https://localhost:8080/"
        },
        "id": "sA-HjR04_uE4",
        "outputId": "3f7f0c50-17ef-4aa5-955d-9fdca96d8702"
      },
      "outputs": [],
      "source": [
        "import matplotlib.pyplot as plt\n",
        "import pandas as pd\n",
        "import numpy as np\n",
        "import glob\n",
        "import pandas as pd\n",
        "from sklearn.linear_model import Ridge\n",
        "r=Ridge(alpha=0.5)\n"
      ]
    },
    {
      "cell_type": "code",
      "execution_count": 2,
      "metadata": {
        "colab": {
          "base_uri": "https://localhost:8080/"
        },
        "id": "Z2whBK0I_9bJ",
        "outputId": "01eef95a-b220-4a07-ae7e-d1287af8ee6f"
      },
      "outputs": [
        {
          "name": "stdout",
          "output_type": "stream",
          "text": [
            "<class 'list'>\n"
          ]
        }
      ],
      "source": [
        "path = r\"C:\\Users\\PAVAN KALYAN\\Desktop\\VS CODE\\Preds\"\n",
        "csv_files = glob.glob(path + \"/*.csv\")\n",
        "print(type(csv_files))"
      ]
    },
    {
      "cell_type": "code",
      "execution_count": 3,
      "metadata": {
        "colab": {
          "base_uri": "https://localhost:8080/"
        },
        "id": "Hh0MQQNgAC0c",
        "outputId": "8909d982-53d5-4d63-cb94-7be99e189ca3"
      },
      "outputs": [],
      "source": [
        "for file in csv_files:\n",
        "    data=pd.read_csv(file)\n",
        "    X=data.iloc[:,3:9].values\n",
        "    Y=data.iloc[:,2].values\n",
        "    r.fit(X, Y)\n",
        "    y_pred=r.predict(X)\n",
        "    df=pd.DataFrame(y_pred)\n",
        "    data.insert(9,'Ridge', df)\n",
        "    data.to_csv(file, index = False)"
      ]
    },
    {
      "cell_type": "code",
      "execution_count": 18,
      "metadata": {
        "id": "zJ6SAjvOCCvW"
      },
      "outputs": [],
      "source": []
    }
  ],
  "metadata": {
    "colab": {
      "name": "RidgeRegression.ipynb",
      "provenance": []
    },
    "kernelspec": {
      "display_name": "Python 3.10.6 64-bit",
      "language": "python",
      "name": "python3"
    },
    "language_info": {
      "codemirror_mode": {
        "name": "ipython",
        "version": 3
      },
      "file_extension": ".py",
      "mimetype": "text/x-python",
      "name": "python",
      "nbconvert_exporter": "python",
      "pygments_lexer": "ipython3",
      "version": "3.10.6"
    },
    "vscode": {
      "interpreter": {
        "hash": "a6d9482fb1517366b81de0744afab9fa3debea0b371a078696c3432505ccb117"
      }
    }
  },
  "nbformat": 4,
  "nbformat_minor": 0
}
