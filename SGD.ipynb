{
  "cells": [
    {
      "cell_type": "code",
      "execution_count": 1,
      "metadata": {
        "colab": {
          "base_uri": "https://localhost:8080/"
        },
        "id": "z2rLuJpYBzv6",
        "outputId": "fd307497-3d70-44ba-9fb4-fc38f7454a9a"
      },
      "outputs": [],
      "source": [
        "import pandas as pd\n",
        "import numpy as np\n",
        "import matplotlib.pyplot as plt\n",
        "from sklearn.linear_model import LinearRegression\n",
        "from sklearn.linear_model import SGDRegressor\n",
        "from scipy.stats import shapiro\n",
        "from warnings import filterwarnings\n",
        "import glob\n",
        "r = SGDRegressor(loss = \"squared_loss\", alpha = 0.1, max_iter = 1000)\n",
        "filterwarnings(\"ignore\")\n",
        "pd.options.display.max_columns = None"
      ]
    },
    {
      "cell_type": "code",
      "execution_count": 2,
      "metadata": {
        "id": "0gwTXg-9CXuG"
      },
      "outputs": [
        {
          "name": "stdout",
          "output_type": "stream",
          "text": [
            "<class 'list'>\n"
          ]
        }
      ],
      "source": [
        "path = r\"C:\\Users\\PAVAN KALYAN\\Desktop\\VS CODE\\Preds\"\n",
        "csv_files = glob.glob(path + \"/*.csv\")\n",
        "print(type(csv_files))"
      ]
    },
    {
      "cell_type": "code",
      "execution_count": 3,
      "metadata": {
        "id": "sP1az81HEcRo"
      },
      "outputs": [],
      "source": [
        "for file in csv_files:\n",
        "    data=pd.read_csv(file)\n",
        "    X=data.iloc[:,3:9].values\n",
        "    Y=data.iloc[:,2].values\n",
        "    r.fit(X, Y)\n",
        "    y_pred=r.predict(X)\n",
        "    df=pd.DataFrame(y_pred)\n",
        "    data.insert(9,'SGD', df)\n",
        "    data.to_csv(file, index = False)"
      ]
    },
    {
      "cell_type": "markdown",
      "metadata": {
        "id": "OwegFIBqF9-F"
      },
      "source": []
    }
  ],
  "metadata": {
    "colab": {
      "collapsed_sections": [],
      "name": "Untitled7.ipynb",
      "provenance": []
    },
    "kernelspec": {
      "display_name": "Python 3.10.6 64-bit",
      "language": "python",
      "name": "python3"
    },
    "language_info": {
      "codemirror_mode": {
        "name": "ipython",
        "version": 3
      },
      "file_extension": ".py",
      "mimetype": "text/x-python",
      "name": "python",
      "nbconvert_exporter": "python",
      "pygments_lexer": "ipython3",
      "version": "3.10.6"
    },
    "vscode": {
      "interpreter": {
        "hash": "a6d9482fb1517366b81de0744afab9fa3debea0b371a078696c3432505ccb117"
      }
    }
  },
  "nbformat": 4,
  "nbformat_minor": 0
}
