{
  "cells": [
    {
      "cell_type": "code",
      "source": [
        "import os\n",
        "os.environ[\"KAGGLE_CONFIG_DIR\"] = '/content'"
      ],
      "metadata": {
        "id": "l-xhdCEQjOUl"
      },
      "execution_count": 7,
      "outputs": []
    },
    {
      "cell_type": "code",
      "source": [
        "!mkdir datasets"
      ],
      "metadata": {
        "colab": {
          "base_uri": "https://localhost:8080/"
        },
        "id": "ddzdGBOvkT56",
        "outputId": "5ea60823-69d5-4d4a-967d-3a97bd2797fc"
      },
      "execution_count": 8,
      "outputs": [
        {
          "output_type": "stream",
          "name": "stdout",
          "text": [
            "mkdir: cannot create directory ‘datasets’: File exists\n"
          ]
        }
      ]
    },
    {
      "cell_type": "code",
      "source": [
        "!kaggle datasets download -d andrewmvd/liver-tumor-segmentation\n"
      ],
      "metadata": {
        "colab": {
          "base_uri": "https://localhost:8080/"
        },
        "id": "7olnENhlkUWm",
        "outputId": "949df95f-713b-4613-f6ca-7b150b436a3f"
      },
      "execution_count": 9,
      "outputs": [
        {
          "output_type": "stream",
          "name": "stdout",
          "text": [
            "Warning: Your Kaggle API key is readable by other users on this system! To fix this, you can run 'chmod 600 /content/kaggle.json'\n",
            "Downloading liver-tumor-segmentation.zip to /content\n",
            "100% 4.83G/4.84G [00:43<00:00, 139MB/s]\n",
            "100% 4.84G/4.84G [00:43<00:00, 120MB/s]\n"
          ]
        }
      ]
    },
    {
      "cell_type": "code",
      "source": [
        "!unzip liver-tumor-segmentation.zip -d dataset"
      ],
      "metadata": {
        "colab": {
          "base_uri": "https://localhost:8080/"
        },
        "id": "5RtUhVYAknQd",
        "outputId": "bbac043b-54ab-4cfa-d076-727e519ff99b"
      },
      "execution_count": 10,
      "outputs": [
        {
          "output_type": "stream",
          "name": "stdout",
          "text": [
            "Archive:  liver-tumor-segmentation.zip\n",
            "  inflating: dataset/segmentations/segmentation-0.nii  \n",
            "  inflating: dataset/segmentations/segmentation-1.nii  \n",
            "  inflating: dataset/segmentations/segmentation-10.nii  \n",
            "  inflating: dataset/segmentations/segmentation-100.nii  \n",
            "  inflating: dataset/segmentations/segmentation-101.nii  \n",
            "  inflating: dataset/segmentations/segmentation-102.nii  \n",
            "  inflating: dataset/segmentations/segmentation-103.nii  \n",
            "  inflating: dataset/segmentations/segmentation-104.nii  \n",
            "  inflating: dataset/segmentations/segmentation-105.nii  \n",
            "  inflating: dataset/segmentations/segmentation-106.nii  \n",
            "  inflating: dataset/segmentations/segmentation-107.nii  \n",
            "  inflating: dataset/segmentations/segmentation-108.nii  \n",
            "  inflating: dataset/segmentations/segmentation-109.nii  \n",
            "  inflating: dataset/segmentations/segmentation-11.nii  \n",
            "  inflating: dataset/segmentations/segmentation-110.nii  \n",
            "  inflating: dataset/segmentations/segmentation-111.nii  \n",
            "  inflating: dataset/segmentations/segmentation-112.nii  \n",
            "  inflating: dataset/segmentations/segmentation-113.nii  \n",
            "  inflating: dataset/segmentations/segmentation-114.nii  \n",
            "  inflating: dataset/segmentations/segmentation-115.nii  \n",
            "  inflating: dataset/segmentations/segmentation-116.nii  \n",
            "  inflating: dataset/segmentations/segmentation-117.nii  \n",
            "  inflating: dataset/segmentations/segmentation-118.nii  \n",
            "  inflating: dataset/segmentations/segmentation-119.nii  \n",
            "  inflating: dataset/segmentations/segmentation-12.nii  \n",
            "  inflating: dataset/segmentations/segmentation-120.nii  \n",
            "  inflating: dataset/segmentations/segmentation-121.nii  \n",
            "  inflating: dataset/segmentations/segmentation-122.nii  \n",
            "  inflating: dataset/segmentations/segmentation-123.nii  \n",
            "  inflating: dataset/segmentations/segmentation-124.nii  \n",
            "  inflating: dataset/segmentations/segmentation-125.nii  \n",
            "  inflating: dataset/segmentations/segmentation-126.nii  \n",
            "  inflating: dataset/segmentations/segmentation-127.nii  \n",
            "  inflating: dataset/segmentations/segmentation-128.nii  \n",
            "  inflating: dataset/segmentations/segmentation-129.nii  \n",
            "  inflating: dataset/segmentations/segmentation-13.nii  \n",
            "  inflating: dataset/segmentations/segmentation-130.nii  \n",
            "  inflating: dataset/segmentations/segmentation-14.nii  \n",
            "  inflating: dataset/segmentations/segmentation-15.nii  \n",
            "  inflating: dataset/segmentations/segmentation-16.nii  \n",
            "  inflating: dataset/segmentations/segmentation-17.nii  \n",
            "  inflating: dataset/segmentations/segmentation-18.nii  \n",
            "  inflating: dataset/segmentations/segmentation-19.nii  \n",
            "  inflating: dataset/segmentations/segmentation-2.nii  \n",
            "  inflating: dataset/segmentations/segmentation-20.nii  \n",
            "  inflating: dataset/segmentations/segmentation-21.nii  \n",
            "  inflating: dataset/segmentations/segmentation-22.nii  \n",
            "  inflating: dataset/segmentations/segmentation-23.nii  \n",
            "  inflating: dataset/segmentations/segmentation-24.nii  \n",
            "  inflating: dataset/segmentations/segmentation-25.nii  \n",
            "  inflating: dataset/segmentations/segmentation-26.nii  \n",
            "  inflating: dataset/segmentations/segmentation-27.nii  \n",
            "  inflating: dataset/segmentations/segmentation-28.nii  \n",
            "  inflating: dataset/segmentations/segmentation-29.nii  \n",
            "  inflating: dataset/segmentations/segmentation-3.nii  \n",
            "  inflating: dataset/segmentations/segmentation-30.nii  \n",
            "  inflating: dataset/segmentations/segmentation-31.nii  \n",
            "  inflating: dataset/segmentations/segmentation-32.nii  \n",
            "  inflating: dataset/segmentations/segmentation-33.nii  \n",
            "  inflating: dataset/segmentations/segmentation-34.nii  \n",
            "  inflating: dataset/segmentations/segmentation-35.nii  \n",
            "  inflating: dataset/segmentations/segmentation-36.nii  \n",
            "  inflating: dataset/segmentations/segmentation-37.nii  \n",
            "  inflating: dataset/segmentations/segmentation-38.nii  \n",
            "  inflating: dataset/segmentations/segmentation-39.nii  \n",
            "  inflating: dataset/segmentations/segmentation-4.nii  \n",
            "  inflating: dataset/segmentations/segmentation-40.nii  \n",
            "  inflating: dataset/segmentations/segmentation-41.nii  \n",
            "  inflating: dataset/segmentations/segmentation-42.nii  \n",
            "  inflating: dataset/segmentations/segmentation-43.nii  \n",
            "  inflating: dataset/segmentations/segmentation-44.nii  \n",
            "  inflating: dataset/segmentations/segmentation-45.nii  \n",
            "  inflating: dataset/segmentations/segmentation-46.nii  \n",
            "  inflating: dataset/segmentations/segmentation-47.nii  \n",
            "  inflating: dataset/segmentations/segmentation-48.nii  \n",
            "  inflating: dataset/segmentations/segmentation-49.nii  \n",
            "  inflating: dataset/segmentations/segmentation-5.nii  \n",
            "  inflating: dataset/segmentations/segmentation-50.nii  \n",
            "  inflating: dataset/segmentations/segmentation-51.nii  \n",
            "  inflating: dataset/segmentations/segmentation-52.nii  \n",
            "  inflating: dataset/segmentations/segmentation-53.nii  \n",
            "  inflating: dataset/segmentations/segmentation-54.nii  \n",
            "  inflating: dataset/segmentations/segmentation-55.nii  \n",
            "  inflating: dataset/segmentations/segmentation-56.nii  \n",
            "  inflating: dataset/segmentations/segmentation-57.nii  \n",
            "  inflating: dataset/segmentations/segmentation-58.nii  \n",
            "  inflating: dataset/segmentations/segmentation-59.nii  \n",
            "  inflating: dataset/segmentations/segmentation-6.nii  \n",
            "  inflating: dataset/segmentations/segmentation-60.nii  \n",
            "  inflating: dataset/segmentations/segmentation-61.nii  \n",
            "  inflating: dataset/segmentations/segmentation-62.nii  \n",
            "  inflating: dataset/segmentations/segmentation-63.nii  \n",
            "  inflating: dataset/segmentations/segmentation-64.nii  \n",
            "  inflating: dataset/segmentations/segmentation-65.nii  \n",
            "  inflating: dataset/segmentations/segmentation-66.nii  \n",
            "  inflating: dataset/segmentations/segmentation-67.nii  \n",
            "  inflating: dataset/segmentations/segmentation-68.nii  \n",
            "  inflating: dataset/segmentations/segmentation-69.nii  \n",
            "  inflating: dataset/segmentations/segmentation-7.nii  \n",
            "  inflating: dataset/segmentations/segmentation-70.nii  \n",
            "  inflating: dataset/segmentations/segmentation-71.nii  \n",
            "  inflating: dataset/segmentations/segmentation-72.nii  \n",
            "  inflating: dataset/segmentations/segmentation-73.nii  \n",
            "  inflating: dataset/segmentations/segmentation-74.nii  \n",
            "  inflating: dataset/segmentations/segmentation-75.nii  \n",
            "  inflating: dataset/segmentations/segmentation-76.nii  \n",
            "  inflating: dataset/segmentations/segmentation-77.nii  \n",
            "  inflating: dataset/segmentations/segmentation-78.nii  \n",
            "  inflating: dataset/segmentations/segmentation-79.nii  \n",
            "  inflating: dataset/segmentations/segmentation-8.nii  \n",
            "  inflating: dataset/segmentations/segmentation-80.nii  \n",
            "  inflating: dataset/segmentations/segmentation-81.nii  \n",
            "  inflating: dataset/segmentations/segmentation-82.nii  \n",
            "  inflating: dataset/segmentations/segmentation-83.nii  \n",
            "  inflating: dataset/segmentations/segmentation-84.nii  \n",
            "  inflating: dataset/segmentations/segmentation-85.nii  \n",
            "  inflating: dataset/segmentations/segmentation-86.nii  \n",
            "  inflating: dataset/segmentations/segmentation-87.nii  \n",
            "  inflating: dataset/segmentations/segmentation-88.nii  \n",
            "  inflating: dataset/segmentations/segmentation-89.nii  \n",
            "  inflating: dataset/segmentations/segmentation-9.nii  \n",
            "  inflating: dataset/segmentations/segmentation-90.nii  \n",
            "  inflating: dataset/segmentations/segmentation-91.nii  \n",
            "  inflating: dataset/segmentations/segmentation-92.nii  \n",
            "  inflating: dataset/segmentations/segmentation-93.nii  \n",
            "  inflating: dataset/segmentations/segmentation-94.nii  \n",
            "  inflating: dataset/segmentations/segmentation-95.nii  \n",
            "  inflating: dataset/segmentations/segmentation-96.nii  \n",
            "  inflating: dataset/segmentations/segmentation-97.nii  \n",
            "  inflating: dataset/segmentations/segmentation-98.nii  \n",
            "  inflating: dataset/segmentations/segmentation-99.nii  \n",
            "  inflating: dataset/volume_pt1/volume-0.nii  \n",
            "  inflating: dataset/volume_pt1/volume-1.nii  \n",
            "  inflating: dataset/volume_pt1/volume-10.nii  \n",
            "  inflating: dataset/volume_pt1/volume-2.nii  \n",
            "  inflating: dataset/volume_pt1/volume-3.nii  \n",
            "  inflating: dataset/volume_pt1/volume-4.nii  \n",
            "  inflating: dataset/volume_pt1/volume-5.nii  \n",
            "  inflating: dataset/volume_pt1/volume-6.nii  \n",
            "  inflating: dataset/volume_pt1/volume-7.nii  \n",
            "  inflating: dataset/volume_pt1/volume-8.nii  \n",
            "  inflating: dataset/volume_pt1/volume-9.nii  \n",
            "  inflating: dataset/volume_pt2/volume-11.nii  \n",
            "  inflating: dataset/volume_pt2/volume-12.nii  \n",
            "  inflating: dataset/volume_pt2/volume-13.nii  \n",
            "  inflating: dataset/volume_pt2/volume-14.nii  \n",
            "  inflating: dataset/volume_pt2/volume-15.nii  \n",
            "  inflating: dataset/volume_pt2/volume-16.nii  \n",
            "  inflating: dataset/volume_pt2/volume-17.nii  \n",
            "  inflating: dataset/volume_pt2/volume-18.nii  \n",
            "  inflating: dataset/volume_pt2/volume-19.nii  \n",
            "  inflating: dataset/volume_pt2/volume-20.nii  \n",
            "  inflating: dataset/volume_pt3/volume-21.nii  \n",
            "  inflating: dataset/volume_pt3/volume-22.nii  \n",
            "  inflating: dataset/volume_pt3/volume-23.nii  \n",
            "  inflating: dataset/volume_pt3/volume-24.nii  \n",
            "  inflating: dataset/volume_pt3/volume-25.nii  \n",
            "  inflating: dataset/volume_pt3/volume-26.nii  \n",
            "  inflating: dataset/volume_pt3/volume-27.nii  \n",
            "  inflating: dataset/volume_pt3/volume-28.nii  \n",
            "  inflating: dataset/volume_pt3/volume-29.nii  \n",
            "  inflating: dataset/volume_pt3/volume-30.nii  \n",
            "  inflating: dataset/volume_pt4/volume-31.nii  \n",
            "  inflating: dataset/volume_pt4/volume-32.nii  \n",
            "  inflating: dataset/volume_pt4/volume-33.nii  \n",
            "  inflating: dataset/volume_pt4/volume-34.nii  \n",
            "  inflating: dataset/volume_pt4/volume-35.nii  \n",
            "  inflating: dataset/volume_pt4/volume-36.nii  \n",
            "  inflating: dataset/volume_pt4/volume-37.nii  \n",
            "  inflating: dataset/volume_pt4/volume-38.nii  \n",
            "  inflating: dataset/volume_pt4/volume-39.nii  \n",
            "  inflating: dataset/volume_pt4/volume-40.nii  \n",
            "  inflating: dataset/volume_pt5/volume-41.nii  \n",
            "  inflating: dataset/volume_pt5/volume-42.nii  \n",
            "  inflating: dataset/volume_pt5/volume-43.nii  \n",
            "  inflating: dataset/volume_pt5/volume-44.nii  \n",
            "  inflating: dataset/volume_pt5/volume-45.nii  \n",
            "  inflating: dataset/volume_pt5/volume-46.nii  \n",
            "  inflating: dataset/volume_pt5/volume-47.nii  \n",
            "  inflating: dataset/volume_pt5/volume-48.nii  \n",
            "  inflating: dataset/volume_pt5/volume-49.nii  \n",
            "  inflating: dataset/volume_pt5/volume-50.nii  \n"
          ]
        }
      ]
    },
    {
      "cell_type": "code",
      "execution_count": 11,
      "metadata": {
        "_cell_guid": "b1076dfc-b9ad-4769-8c92-a6c4dae69d19",
        "_uuid": "8f2839f25d086af736a60e9eeb907d3b93b6e0e5",
        "execution": {
          "iopub.execute_input": "2020-09-17T10:18:44.888698Z",
          "iopub.status.busy": "2020-09-17T10:18:44.888045Z",
          "iopub.status.idle": "2020-09-17T10:18:45.486180Z",
          "shell.execute_reply": "2020-09-17T10:18:45.485624Z"
        },
        "papermill": {
          "duration": 0.626614,
          "end_time": "2020-09-17T10:18:45.486328",
          "exception": false,
          "start_time": "2020-09-17T10:18:44.859714",
          "status": "completed"
        },
        "tags": [],
        "id": "S0SqIZo7ig4o"
      },
      "outputs": [],
      "source": [
        "import numpy as np \n",
        "import pandas as pd \n",
        "import os\n",
        "import matplotlib.pyplot as plt\n",
        "import glob\n",
        "import nibabel as nib\n",
        "import cv2\n",
        "import imageio\n",
        "from tqdm.notebook import tqdm\n",
        "from ipywidgets import *\n",
        "from PIL import Image\n"
      ]
    },
    {
      "cell_type": "code",
      "execution_count": 12,
      "metadata": {
        "execution": {
          "iopub.execute_input": "2020-09-17T10:20:30.210877Z",
          "iopub.status.busy": "2020-09-17T10:20:30.210008Z",
          "iopub.status.idle": "2020-09-17T10:20:32.013666Z",
          "shell.execute_reply": "2020-09-17T10:20:32.012732Z"
        },
        "papermill": {
          "duration": 1.832444,
          "end_time": "2020-09-17T10:20:32.013796",
          "exception": false,
          "start_time": "2020-09-17T10:20:30.181352",
          "status": "completed"
        },
        "tags": [],
        "id": "jgiH5zqnig4v"
      },
      "outputs": [],
      "source": [
        "from fastai.basics import *\n",
        "from fastai.vision.all import *\n",
        "from fastai.data.transforms import *"
      ]
    },
    {
      "cell_type": "code",
      "execution_count": 17,
      "metadata": {
        "execution": {
          "iopub.execute_input": "2020-09-17T10:20:32.070603Z",
          "iopub.status.busy": "2020-09-17T10:20:32.069993Z",
          "iopub.status.idle": "2020-09-17T10:20:32.121073Z",
          "shell.execute_reply": "2020-09-17T10:20:32.121565Z"
        },
        "papermill": {
          "duration": 0.083103,
          "end_time": "2020-09-17T10:20:32.121688",
          "exception": false,
          "start_time": "2020-09-17T10:20:32.038585",
          "status": "completed"
        },
        "tags": [],
        "colab": {
          "base_uri": "https://localhost:8080/",
          "height": 424
        },
        "id": "QlqqPuK-ig4w",
        "outputId": "6d13be18-ff8d-40fa-9c5a-94b9428bc3f0"
      },
      "outputs": [
        {
          "output_type": "execute_result",
          "data": {
            "text/plain": [
              "                             dirname              filename\n",
              "41   /content/datasets/segmentations    segmentation-0.nii\n",
              "15   /content/datasets/segmentations    segmentation-1.nii\n",
              "4    /content/datasets/segmentations   segmentation-10.nii\n",
              "92   /content/datasets/segmentations  segmentation-100.nii\n",
              "86   /content/datasets/segmentations  segmentation-101.nii\n",
              "..                               ...                   ...\n",
              "160     /content/datasets/volume_pt5         volume-50.nii\n",
              "144     /content/datasets/volume_pt1          volume-6.nii\n",
              "141     /content/datasets/volume_pt1          volume-7.nii\n",
              "146     /content/datasets/volume_pt1          volume-8.nii\n",
              "142     /content/datasets/volume_pt1          volume-9.nii\n",
              "\n",
              "[182 rows x 2 columns]"
            ],
            "text/html": [
              "\n",
              "  <div id=\"df-1352e678-9fbc-43f3-8a25-6f5174ccf988\">\n",
              "    <div class=\"colab-df-container\">\n",
              "      <div>\n",
              "<style scoped>\n",
              "    .dataframe tbody tr th:only-of-type {\n",
              "        vertical-align: middle;\n",
              "    }\n",
              "\n",
              "    .dataframe tbody tr th {\n",
              "        vertical-align: top;\n",
              "    }\n",
              "\n",
              "    .dataframe thead th {\n",
              "        text-align: right;\n",
              "    }\n",
              "</style>\n",
              "<table border=\"1\" class=\"dataframe\">\n",
              "  <thead>\n",
              "    <tr style=\"text-align: right;\">\n",
              "      <th></th>\n",
              "      <th>dirname</th>\n",
              "      <th>filename</th>\n",
              "    </tr>\n",
              "  </thead>\n",
              "  <tbody>\n",
              "    <tr>\n",
              "      <th>41</th>\n",
              "      <td>/content/datasets/segmentations</td>\n",
              "      <td>segmentation-0.nii</td>\n",
              "    </tr>\n",
              "    <tr>\n",
              "      <th>15</th>\n",
              "      <td>/content/datasets/segmentations</td>\n",
              "      <td>segmentation-1.nii</td>\n",
              "    </tr>\n",
              "    <tr>\n",
              "      <th>4</th>\n",
              "      <td>/content/datasets/segmentations</td>\n",
              "      <td>segmentation-10.nii</td>\n",
              "    </tr>\n",
              "    <tr>\n",
              "      <th>92</th>\n",
              "      <td>/content/datasets/segmentations</td>\n",
              "      <td>segmentation-100.nii</td>\n",
              "    </tr>\n",
              "    <tr>\n",
              "      <th>86</th>\n",
              "      <td>/content/datasets/segmentations</td>\n",
              "      <td>segmentation-101.nii</td>\n",
              "    </tr>\n",
              "    <tr>\n",
              "      <th>...</th>\n",
              "      <td>...</td>\n",
              "      <td>...</td>\n",
              "    </tr>\n",
              "    <tr>\n",
              "      <th>160</th>\n",
              "      <td>/content/datasets/volume_pt5</td>\n",
              "      <td>volume-50.nii</td>\n",
              "    </tr>\n",
              "    <tr>\n",
              "      <th>144</th>\n",
              "      <td>/content/datasets/volume_pt1</td>\n",
              "      <td>volume-6.nii</td>\n",
              "    </tr>\n",
              "    <tr>\n",
              "      <th>141</th>\n",
              "      <td>/content/datasets/volume_pt1</td>\n",
              "      <td>volume-7.nii</td>\n",
              "    </tr>\n",
              "    <tr>\n",
              "      <th>146</th>\n",
              "      <td>/content/datasets/volume_pt1</td>\n",
              "      <td>volume-8.nii</td>\n",
              "    </tr>\n",
              "    <tr>\n",
              "      <th>142</th>\n",
              "      <td>/content/datasets/volume_pt1</td>\n",
              "      <td>volume-9.nii</td>\n",
              "    </tr>\n",
              "  </tbody>\n",
              "</table>\n",
              "<p>182 rows × 2 columns</p>\n",
              "</div>\n",
              "      <button class=\"colab-df-convert\" onclick=\"convertToInteractive('df-1352e678-9fbc-43f3-8a25-6f5174ccf988')\"\n",
              "              title=\"Convert this dataframe to an interactive table.\"\n",
              "              style=\"display:none;\">\n",
              "        \n",
              "  <svg xmlns=\"http://www.w3.org/2000/svg\" height=\"24px\"viewBox=\"0 0 24 24\"\n",
              "       width=\"24px\">\n",
              "    <path d=\"M0 0h24v24H0V0z\" fill=\"none\"/>\n",
              "    <path d=\"M18.56 5.44l.94 2.06.94-2.06 2.06-.94-2.06-.94-.94-2.06-.94 2.06-2.06.94zm-11 1L8.5 8.5l.94-2.06 2.06-.94-2.06-.94L8.5 2.5l-.94 2.06-2.06.94zm10 10l.94 2.06.94-2.06 2.06-.94-2.06-.94-.94-2.06-.94 2.06-2.06.94z\"/><path d=\"M17.41 7.96l-1.37-1.37c-.4-.4-.92-.59-1.43-.59-.52 0-1.04.2-1.43.59L10.3 9.45l-7.72 7.72c-.78.78-.78 2.05 0 2.83L4 21.41c.39.39.9.59 1.41.59.51 0 1.02-.2 1.41-.59l7.78-7.78 2.81-2.81c.8-.78.8-2.07 0-2.86zM5.41 20L4 18.59l7.72-7.72 1.47 1.35L5.41 20z\"/>\n",
              "  </svg>\n",
              "      </button>\n",
              "      \n",
              "  <style>\n",
              "    .colab-df-container {\n",
              "      display:flex;\n",
              "      flex-wrap:wrap;\n",
              "      gap: 12px;\n",
              "    }\n",
              "\n",
              "    .colab-df-convert {\n",
              "      background-color: #E8F0FE;\n",
              "      border: none;\n",
              "      border-radius: 50%;\n",
              "      cursor: pointer;\n",
              "      display: none;\n",
              "      fill: #1967D2;\n",
              "      height: 32px;\n",
              "      padding: 0 0 0 0;\n",
              "      width: 32px;\n",
              "    }\n",
              "\n",
              "    .colab-df-convert:hover {\n",
              "      background-color: #E2EBFA;\n",
              "      box-shadow: 0px 1px 2px rgba(60, 64, 67, 0.3), 0px 1px 3px 1px rgba(60, 64, 67, 0.15);\n",
              "      fill: #174EA6;\n",
              "    }\n",
              "\n",
              "    [theme=dark] .colab-df-convert {\n",
              "      background-color: #3B4455;\n",
              "      fill: #D2E3FC;\n",
              "    }\n",
              "\n",
              "    [theme=dark] .colab-df-convert:hover {\n",
              "      background-color: #434B5C;\n",
              "      box-shadow: 0px 1px 3px 1px rgba(0, 0, 0, 0.15);\n",
              "      filter: drop-shadow(0px 1px 2px rgba(0, 0, 0, 0.3));\n",
              "      fill: #FFFFFF;\n",
              "    }\n",
              "  </style>\n",
              "\n",
              "      <script>\n",
              "        const buttonEl =\n",
              "          document.querySelector('#df-1352e678-9fbc-43f3-8a25-6f5174ccf988 button.colab-df-convert');\n",
              "        buttonEl.style.display =\n",
              "          google.colab.kernel.accessAllowed ? 'block' : 'none';\n",
              "\n",
              "        async function convertToInteractive(key) {\n",
              "          const element = document.querySelector('#df-1352e678-9fbc-43f3-8a25-6f5174ccf988');\n",
              "          const dataTable =\n",
              "            await google.colab.kernel.invokeFunction('convertToInteractive',\n",
              "                                                     [key], {});\n",
              "          if (!dataTable) return;\n",
              "\n",
              "          const docLinkHtml = 'Like what you see? Visit the ' +\n",
              "            '<a target=\"_blank\" href=https://colab.research.google.com/notebooks/data_table.ipynb>data table notebook</a>'\n",
              "            + ' to learn more about interactive tables.';\n",
              "          element.innerHTML = '';\n",
              "          dataTable['output_type'] = 'display_data';\n",
              "          await google.colab.output.renderOutput(dataTable, element);\n",
              "          const docLink = document.createElement('div');\n",
              "          docLink.innerHTML = docLinkHtml;\n",
              "          element.appendChild(docLink);\n",
              "        }\n",
              "      </script>\n",
              "    </div>\n",
              "  </div>\n",
              "  "
            ]
          },
          "metadata": {},
          "execution_count": 17
        }
      ],
      "source": [
        "file_list = []\n",
        "for dirname, _, filenames in os.walk(\"/content/datasets\"):\n",
        "    for filename in filenames:\n",
        "\n",
        "        file_list.append((dirname,filename)) \n",
        "\n",
        "df_files = pd.DataFrame(file_list, columns =['dirname', 'filename']) \n",
        "df_files.sort_values(by=['filename'], ascending=True)    "
      ]
    },
    {
      "cell_type": "code",
      "execution_count": 18,
      "metadata": {
        "execution": {
          "iopub.execute_input": "2020-09-17T10:20:32.313912Z",
          "iopub.status.busy": "2020-09-17T10:20:32.313240Z",
          "iopub.status.idle": "2020-09-17T10:20:32.327587Z",
          "shell.execute_reply": "2020-09-17T10:20:32.326462Z"
        },
        "papermill": {
          "duration": 0.180989,
          "end_time": "2020-09-17T10:20:32.327734",
          "exception": false,
          "start_time": "2020-09-17T10:20:32.146745",
          "status": "completed"
        },
        "tags": [],
        "colab": {
          "base_uri": "https://localhost:8080/",
          "height": 1000
        },
        "id": "o8L2zMX0ig4z",
        "outputId": "20b9a0cc-3912-4015-b808-01ba43f718d4"
      },
      "outputs": [
        {
          "output_type": "stream",
          "name": "stdout",
          "text": [
            "51\n"
          ]
        },
        {
          "output_type": "execute_result",
          "data": {
            "text/plain": [
              "                         dirname       filename  \\\n",
              "0   /content/datasets/volume_pt1   volume-0.nii   \n",
              "1   /content/datasets/volume_pt1   volume-1.nii   \n",
              "2   /content/datasets/volume_pt1  volume-10.nii   \n",
              "3   /content/datasets/volume_pt2  volume-11.nii   \n",
              "4   /content/datasets/volume_pt2  volume-12.nii   \n",
              "5   /content/datasets/volume_pt2  volume-13.nii   \n",
              "6   /content/datasets/volume_pt2  volume-14.nii   \n",
              "7   /content/datasets/volume_pt2  volume-15.nii   \n",
              "8   /content/datasets/volume_pt2  volume-16.nii   \n",
              "9   /content/datasets/volume_pt2  volume-17.nii   \n",
              "10  /content/datasets/volume_pt2  volume-18.nii   \n",
              "11  /content/datasets/volume_pt2  volume-19.nii   \n",
              "12  /content/datasets/volume_pt1   volume-2.nii   \n",
              "13  /content/datasets/volume_pt2  volume-20.nii   \n",
              "14  /content/datasets/volume_pt3  volume-21.nii   \n",
              "15  /content/datasets/volume_pt3  volume-22.nii   \n",
              "16  /content/datasets/volume_pt3  volume-23.nii   \n",
              "17  /content/datasets/volume_pt3  volume-24.nii   \n",
              "18  /content/datasets/volume_pt3  volume-25.nii   \n",
              "19  /content/datasets/volume_pt3  volume-26.nii   \n",
              "20  /content/datasets/volume_pt3  volume-27.nii   \n",
              "21  /content/datasets/volume_pt3  volume-28.nii   \n",
              "22  /content/datasets/volume_pt3  volume-29.nii   \n",
              "23  /content/datasets/volume_pt1   volume-3.nii   \n",
              "24  /content/datasets/volume_pt3  volume-30.nii   \n",
              "25  /content/datasets/volume_pt4  volume-31.nii   \n",
              "26  /content/datasets/volume_pt4  volume-32.nii   \n",
              "27  /content/datasets/volume_pt4  volume-33.nii   \n",
              "28  /content/datasets/volume_pt4  volume-34.nii   \n",
              "29  /content/datasets/volume_pt4  volume-35.nii   \n",
              "30  /content/datasets/volume_pt4  volume-36.nii   \n",
              "31  /content/datasets/volume_pt4  volume-37.nii   \n",
              "32  /content/datasets/volume_pt4  volume-38.nii   \n",
              "33  /content/datasets/volume_pt4  volume-39.nii   \n",
              "34  /content/datasets/volume_pt1   volume-4.nii   \n",
              "35  /content/datasets/volume_pt4  volume-40.nii   \n",
              "36  /content/datasets/volume_pt5  volume-41.nii   \n",
              "37  /content/datasets/volume_pt5  volume-42.nii   \n",
              "38  /content/datasets/volume_pt5  volume-43.nii   \n",
              "39  /content/datasets/volume_pt5  volume-44.nii   \n",
              "40  /content/datasets/volume_pt5  volume-45.nii   \n",
              "41  /content/datasets/volume_pt5  volume-46.nii   \n",
              "42  /content/datasets/volume_pt5  volume-47.nii   \n",
              "43  /content/datasets/volume_pt5  volume-48.nii   \n",
              "44  /content/datasets/volume_pt5  volume-49.nii   \n",
              "45  /content/datasets/volume_pt1   volume-5.nii   \n",
              "46  /content/datasets/volume_pt5  volume-50.nii   \n",
              "47  /content/datasets/volume_pt1   volume-6.nii   \n",
              "48  /content/datasets/volume_pt1   volume-7.nii   \n",
              "49  /content/datasets/volume_pt1   volume-8.nii   \n",
              "50  /content/datasets/volume_pt1   volume-9.nii   \n",
              "\n",
              "                       mask_dirname        mask_filename  \n",
              "0   /content/datasets/segmentations   segmentation-0.nii  \n",
              "1   /content/datasets/segmentations   segmentation-1.nii  \n",
              "2   /content/datasets/segmentations  segmentation-10.nii  \n",
              "3   /content/datasets/segmentations  segmentation-11.nii  \n",
              "4   /content/datasets/segmentations  segmentation-12.nii  \n",
              "5   /content/datasets/segmentations  segmentation-13.nii  \n",
              "6   /content/datasets/segmentations  segmentation-14.nii  \n",
              "7   /content/datasets/segmentations  segmentation-15.nii  \n",
              "8   /content/datasets/segmentations  segmentation-16.nii  \n",
              "9   /content/datasets/segmentations  segmentation-17.nii  \n",
              "10  /content/datasets/segmentations  segmentation-18.nii  \n",
              "11  /content/datasets/segmentations  segmentation-19.nii  \n",
              "12  /content/datasets/segmentations   segmentation-2.nii  \n",
              "13  /content/datasets/segmentations  segmentation-20.nii  \n",
              "14  /content/datasets/segmentations  segmentation-21.nii  \n",
              "15  /content/datasets/segmentations  segmentation-22.nii  \n",
              "16  /content/datasets/segmentations  segmentation-23.nii  \n",
              "17  /content/datasets/segmentations  segmentation-24.nii  \n",
              "18  /content/datasets/segmentations  segmentation-25.nii  \n",
              "19  /content/datasets/segmentations  segmentation-26.nii  \n",
              "20  /content/datasets/segmentations  segmentation-27.nii  \n",
              "21  /content/datasets/segmentations  segmentation-28.nii  \n",
              "22  /content/datasets/segmentations  segmentation-29.nii  \n",
              "23  /content/datasets/segmentations   segmentation-3.nii  \n",
              "24  /content/datasets/segmentations  segmentation-30.nii  \n",
              "25  /content/datasets/segmentations  segmentation-31.nii  \n",
              "26  /content/datasets/segmentations  segmentation-32.nii  \n",
              "27  /content/datasets/segmentations  segmentation-33.nii  \n",
              "28  /content/datasets/segmentations  segmentation-34.nii  \n",
              "29  /content/datasets/segmentations  segmentation-35.nii  \n",
              "30  /content/datasets/segmentations  segmentation-36.nii  \n",
              "31  /content/datasets/segmentations  segmentation-37.nii  \n",
              "32  /content/datasets/segmentations  segmentation-38.nii  \n",
              "33  /content/datasets/segmentations  segmentation-39.nii  \n",
              "34  /content/datasets/segmentations   segmentation-4.nii  \n",
              "35  /content/datasets/segmentations  segmentation-40.nii  \n",
              "36  /content/datasets/segmentations  segmentation-41.nii  \n",
              "37  /content/datasets/segmentations  segmentation-42.nii  \n",
              "38  /content/datasets/segmentations  segmentation-43.nii  \n",
              "39  /content/datasets/segmentations  segmentation-44.nii  \n",
              "40  /content/datasets/segmentations  segmentation-45.nii  \n",
              "41  /content/datasets/segmentations  segmentation-46.nii  \n",
              "42  /content/datasets/segmentations  segmentation-47.nii  \n",
              "43  /content/datasets/segmentations  segmentation-48.nii  \n",
              "44  /content/datasets/segmentations  segmentation-49.nii  \n",
              "45  /content/datasets/segmentations   segmentation-5.nii  \n",
              "46  /content/datasets/segmentations  segmentation-50.nii  \n",
              "47  /content/datasets/segmentations   segmentation-6.nii  \n",
              "48  /content/datasets/segmentations   segmentation-7.nii  \n",
              "49  /content/datasets/segmentations   segmentation-8.nii  \n",
              "50  /content/datasets/segmentations   segmentation-9.nii  "
            ],
            "text/html": [
              "\n",
              "  <div id=\"df-affde6d3-d5b6-4466-a9a7-4da8028470db\">\n",
              "    <div class=\"colab-df-container\">\n",
              "      <div>\n",
              "<style scoped>\n",
              "    .dataframe tbody tr th:only-of-type {\n",
              "        vertical-align: middle;\n",
              "    }\n",
              "\n",
              "    .dataframe tbody tr th {\n",
              "        vertical-align: top;\n",
              "    }\n",
              "\n",
              "    .dataframe thead th {\n",
              "        text-align: right;\n",
              "    }\n",
              "</style>\n",
              "<table border=\"1\" class=\"dataframe\">\n",
              "  <thead>\n",
              "    <tr style=\"text-align: right;\">\n",
              "      <th></th>\n",
              "      <th>dirname</th>\n",
              "      <th>filename</th>\n",
              "      <th>mask_dirname</th>\n",
              "      <th>mask_filename</th>\n",
              "    </tr>\n",
              "  </thead>\n",
              "  <tbody>\n",
              "    <tr>\n",
              "      <th>0</th>\n",
              "      <td>/content/datasets/volume_pt1</td>\n",
              "      <td>volume-0.nii</td>\n",
              "      <td>/content/datasets/segmentations</td>\n",
              "      <td>segmentation-0.nii</td>\n",
              "    </tr>\n",
              "    <tr>\n",
              "      <th>1</th>\n",
              "      <td>/content/datasets/volume_pt1</td>\n",
              "      <td>volume-1.nii</td>\n",
              "      <td>/content/datasets/segmentations</td>\n",
              "      <td>segmentation-1.nii</td>\n",
              "    </tr>\n",
              "    <tr>\n",
              "      <th>2</th>\n",
              "      <td>/content/datasets/volume_pt1</td>\n",
              "      <td>volume-10.nii</td>\n",
              "      <td>/content/datasets/segmentations</td>\n",
              "      <td>segmentation-10.nii</td>\n",
              "    </tr>\n",
              "    <tr>\n",
              "      <th>3</th>\n",
              "      <td>/content/datasets/volume_pt2</td>\n",
              "      <td>volume-11.nii</td>\n",
              "      <td>/content/datasets/segmentations</td>\n",
              "      <td>segmentation-11.nii</td>\n",
              "    </tr>\n",
              "    <tr>\n",
              "      <th>4</th>\n",
              "      <td>/content/datasets/volume_pt2</td>\n",
              "      <td>volume-12.nii</td>\n",
              "      <td>/content/datasets/segmentations</td>\n",
              "      <td>segmentation-12.nii</td>\n",
              "    </tr>\n",
              "    <tr>\n",
              "      <th>5</th>\n",
              "      <td>/content/datasets/volume_pt2</td>\n",
              "      <td>volume-13.nii</td>\n",
              "      <td>/content/datasets/segmentations</td>\n",
              "      <td>segmentation-13.nii</td>\n",
              "    </tr>\n",
              "    <tr>\n",
              "      <th>6</th>\n",
              "      <td>/content/datasets/volume_pt2</td>\n",
              "      <td>volume-14.nii</td>\n",
              "      <td>/content/datasets/segmentations</td>\n",
              "      <td>segmentation-14.nii</td>\n",
              "    </tr>\n",
              "    <tr>\n",
              "      <th>7</th>\n",
              "      <td>/content/datasets/volume_pt2</td>\n",
              "      <td>volume-15.nii</td>\n",
              "      <td>/content/datasets/segmentations</td>\n",
              "      <td>segmentation-15.nii</td>\n",
              "    </tr>\n",
              "    <tr>\n",
              "      <th>8</th>\n",
              "      <td>/content/datasets/volume_pt2</td>\n",
              "      <td>volume-16.nii</td>\n",
              "      <td>/content/datasets/segmentations</td>\n",
              "      <td>segmentation-16.nii</td>\n",
              "    </tr>\n",
              "    <tr>\n",
              "      <th>9</th>\n",
              "      <td>/content/datasets/volume_pt2</td>\n",
              "      <td>volume-17.nii</td>\n",
              "      <td>/content/datasets/segmentations</td>\n",
              "      <td>segmentation-17.nii</td>\n",
              "    </tr>\n",
              "    <tr>\n",
              "      <th>10</th>\n",
              "      <td>/content/datasets/volume_pt2</td>\n",
              "      <td>volume-18.nii</td>\n",
              "      <td>/content/datasets/segmentations</td>\n",
              "      <td>segmentation-18.nii</td>\n",
              "    </tr>\n",
              "    <tr>\n",
              "      <th>11</th>\n",
              "      <td>/content/datasets/volume_pt2</td>\n",
              "      <td>volume-19.nii</td>\n",
              "      <td>/content/datasets/segmentations</td>\n",
              "      <td>segmentation-19.nii</td>\n",
              "    </tr>\n",
              "    <tr>\n",
              "      <th>12</th>\n",
              "      <td>/content/datasets/volume_pt1</td>\n",
              "      <td>volume-2.nii</td>\n",
              "      <td>/content/datasets/segmentations</td>\n",
              "      <td>segmentation-2.nii</td>\n",
              "    </tr>\n",
              "    <tr>\n",
              "      <th>13</th>\n",
              "      <td>/content/datasets/volume_pt2</td>\n",
              "      <td>volume-20.nii</td>\n",
              "      <td>/content/datasets/segmentations</td>\n",
              "      <td>segmentation-20.nii</td>\n",
              "    </tr>\n",
              "    <tr>\n",
              "      <th>14</th>\n",
              "      <td>/content/datasets/volume_pt3</td>\n",
              "      <td>volume-21.nii</td>\n",
              "      <td>/content/datasets/segmentations</td>\n",
              "      <td>segmentation-21.nii</td>\n",
              "    </tr>\n",
              "    <tr>\n",
              "      <th>15</th>\n",
              "      <td>/content/datasets/volume_pt3</td>\n",
              "      <td>volume-22.nii</td>\n",
              "      <td>/content/datasets/segmentations</td>\n",
              "      <td>segmentation-22.nii</td>\n",
              "    </tr>\n",
              "    <tr>\n",
              "      <th>16</th>\n",
              "      <td>/content/datasets/volume_pt3</td>\n",
              "      <td>volume-23.nii</td>\n",
              "      <td>/content/datasets/segmentations</td>\n",
              "      <td>segmentation-23.nii</td>\n",
              "    </tr>\n",
              "    <tr>\n",
              "      <th>17</th>\n",
              "      <td>/content/datasets/volume_pt3</td>\n",
              "      <td>volume-24.nii</td>\n",
              "      <td>/content/datasets/segmentations</td>\n",
              "      <td>segmentation-24.nii</td>\n",
              "    </tr>\n",
              "    <tr>\n",
              "      <th>18</th>\n",
              "      <td>/content/datasets/volume_pt3</td>\n",
              "      <td>volume-25.nii</td>\n",
              "      <td>/content/datasets/segmentations</td>\n",
              "      <td>segmentation-25.nii</td>\n",
              "    </tr>\n",
              "    <tr>\n",
              "      <th>19</th>\n",
              "      <td>/content/datasets/volume_pt3</td>\n",
              "      <td>volume-26.nii</td>\n",
              "      <td>/content/datasets/segmentations</td>\n",
              "      <td>segmentation-26.nii</td>\n",
              "    </tr>\n",
              "    <tr>\n",
              "      <th>20</th>\n",
              "      <td>/content/datasets/volume_pt3</td>\n",
              "      <td>volume-27.nii</td>\n",
              "      <td>/content/datasets/segmentations</td>\n",
              "      <td>segmentation-27.nii</td>\n",
              "    </tr>\n",
              "    <tr>\n",
              "      <th>21</th>\n",
              "      <td>/content/datasets/volume_pt3</td>\n",
              "      <td>volume-28.nii</td>\n",
              "      <td>/content/datasets/segmentations</td>\n",
              "      <td>segmentation-28.nii</td>\n",
              "    </tr>\n",
              "    <tr>\n",
              "      <th>22</th>\n",
              "      <td>/content/datasets/volume_pt3</td>\n",
              "      <td>volume-29.nii</td>\n",
              "      <td>/content/datasets/segmentations</td>\n",
              "      <td>segmentation-29.nii</td>\n",
              "    </tr>\n",
              "    <tr>\n",
              "      <th>23</th>\n",
              "      <td>/content/datasets/volume_pt1</td>\n",
              "      <td>volume-3.nii</td>\n",
              "      <td>/content/datasets/segmentations</td>\n",
              "      <td>segmentation-3.nii</td>\n",
              "    </tr>\n",
              "    <tr>\n",
              "      <th>24</th>\n",
              "      <td>/content/datasets/volume_pt3</td>\n",
              "      <td>volume-30.nii</td>\n",
              "      <td>/content/datasets/segmentations</td>\n",
              "      <td>segmentation-30.nii</td>\n",
              "    </tr>\n",
              "    <tr>\n",
              "      <th>25</th>\n",
              "      <td>/content/datasets/volume_pt4</td>\n",
              "      <td>volume-31.nii</td>\n",
              "      <td>/content/datasets/segmentations</td>\n",
              "      <td>segmentation-31.nii</td>\n",
              "    </tr>\n",
              "    <tr>\n",
              "      <th>26</th>\n",
              "      <td>/content/datasets/volume_pt4</td>\n",
              "      <td>volume-32.nii</td>\n",
              "      <td>/content/datasets/segmentations</td>\n",
              "      <td>segmentation-32.nii</td>\n",
              "    </tr>\n",
              "    <tr>\n",
              "      <th>27</th>\n",
              "      <td>/content/datasets/volume_pt4</td>\n",
              "      <td>volume-33.nii</td>\n",
              "      <td>/content/datasets/segmentations</td>\n",
              "      <td>segmentation-33.nii</td>\n",
              "    </tr>\n",
              "    <tr>\n",
              "      <th>28</th>\n",
              "      <td>/content/datasets/volume_pt4</td>\n",
              "      <td>volume-34.nii</td>\n",
              "      <td>/content/datasets/segmentations</td>\n",
              "      <td>segmentation-34.nii</td>\n",
              "    </tr>\n",
              "    <tr>\n",
              "      <th>29</th>\n",
              "      <td>/content/datasets/volume_pt4</td>\n",
              "      <td>volume-35.nii</td>\n",
              "      <td>/content/datasets/segmentations</td>\n",
              "      <td>segmentation-35.nii</td>\n",
              "    </tr>\n",
              "    <tr>\n",
              "      <th>30</th>\n",
              "      <td>/content/datasets/volume_pt4</td>\n",
              "      <td>volume-36.nii</td>\n",
              "      <td>/content/datasets/segmentations</td>\n",
              "      <td>segmentation-36.nii</td>\n",
              "    </tr>\n",
              "    <tr>\n",
              "      <th>31</th>\n",
              "      <td>/content/datasets/volume_pt4</td>\n",
              "      <td>volume-37.nii</td>\n",
              "      <td>/content/datasets/segmentations</td>\n",
              "      <td>segmentation-37.nii</td>\n",
              "    </tr>\n",
              "    <tr>\n",
              "      <th>32</th>\n",
              "      <td>/content/datasets/volume_pt4</td>\n",
              "      <td>volume-38.nii</td>\n",
              "      <td>/content/datasets/segmentations</td>\n",
              "      <td>segmentation-38.nii</td>\n",
              "    </tr>\n",
              "    <tr>\n",
              "      <th>33</th>\n",
              "      <td>/content/datasets/volume_pt4</td>\n",
              "      <td>volume-39.nii</td>\n",
              "      <td>/content/datasets/segmentations</td>\n",
              "      <td>segmentation-39.nii</td>\n",
              "    </tr>\n",
              "    <tr>\n",
              "      <th>34</th>\n",
              "      <td>/content/datasets/volume_pt1</td>\n",
              "      <td>volume-4.nii</td>\n",
              "      <td>/content/datasets/segmentations</td>\n",
              "      <td>segmentation-4.nii</td>\n",
              "    </tr>\n",
              "    <tr>\n",
              "      <th>35</th>\n",
              "      <td>/content/datasets/volume_pt4</td>\n",
              "      <td>volume-40.nii</td>\n",
              "      <td>/content/datasets/segmentations</td>\n",
              "      <td>segmentation-40.nii</td>\n",
              "    </tr>\n",
              "    <tr>\n",
              "      <th>36</th>\n",
              "      <td>/content/datasets/volume_pt5</td>\n",
              "      <td>volume-41.nii</td>\n",
              "      <td>/content/datasets/segmentations</td>\n",
              "      <td>segmentation-41.nii</td>\n",
              "    </tr>\n",
              "    <tr>\n",
              "      <th>37</th>\n",
              "      <td>/content/datasets/volume_pt5</td>\n",
              "      <td>volume-42.nii</td>\n",
              "      <td>/content/datasets/segmentations</td>\n",
              "      <td>segmentation-42.nii</td>\n",
              "    </tr>\n",
              "    <tr>\n",
              "      <th>38</th>\n",
              "      <td>/content/datasets/volume_pt5</td>\n",
              "      <td>volume-43.nii</td>\n",
              "      <td>/content/datasets/segmentations</td>\n",
              "      <td>segmentation-43.nii</td>\n",
              "    </tr>\n",
              "    <tr>\n",
              "      <th>39</th>\n",
              "      <td>/content/datasets/volume_pt5</td>\n",
              "      <td>volume-44.nii</td>\n",
              "      <td>/content/datasets/segmentations</td>\n",
              "      <td>segmentation-44.nii</td>\n",
              "    </tr>\n",
              "    <tr>\n",
              "      <th>40</th>\n",
              "      <td>/content/datasets/volume_pt5</td>\n",
              "      <td>volume-45.nii</td>\n",
              "      <td>/content/datasets/segmentations</td>\n",
              "      <td>segmentation-45.nii</td>\n",
              "    </tr>\n",
              "    <tr>\n",
              "      <th>41</th>\n",
              "      <td>/content/datasets/volume_pt5</td>\n",
              "      <td>volume-46.nii</td>\n",
              "      <td>/content/datasets/segmentations</td>\n",
              "      <td>segmentation-46.nii</td>\n",
              "    </tr>\n",
              "    <tr>\n",
              "      <th>42</th>\n",
              "      <td>/content/datasets/volume_pt5</td>\n",
              "      <td>volume-47.nii</td>\n",
              "      <td>/content/datasets/segmentations</td>\n",
              "      <td>segmentation-47.nii</td>\n",
              "    </tr>\n",
              "    <tr>\n",
              "      <th>43</th>\n",
              "      <td>/content/datasets/volume_pt5</td>\n",
              "      <td>volume-48.nii</td>\n",
              "      <td>/content/datasets/segmentations</td>\n",
              "      <td>segmentation-48.nii</td>\n",
              "    </tr>\n",
              "    <tr>\n",
              "      <th>44</th>\n",
              "      <td>/content/datasets/volume_pt5</td>\n",
              "      <td>volume-49.nii</td>\n",
              "      <td>/content/datasets/segmentations</td>\n",
              "      <td>segmentation-49.nii</td>\n",
              "    </tr>\n",
              "    <tr>\n",
              "      <th>45</th>\n",
              "      <td>/content/datasets/volume_pt1</td>\n",
              "      <td>volume-5.nii</td>\n",
              "      <td>/content/datasets/segmentations</td>\n",
              "      <td>segmentation-5.nii</td>\n",
              "    </tr>\n",
              "    <tr>\n",
              "      <th>46</th>\n",
              "      <td>/content/datasets/volume_pt5</td>\n",
              "      <td>volume-50.nii</td>\n",
              "      <td>/content/datasets/segmentations</td>\n",
              "      <td>segmentation-50.nii</td>\n",
              "    </tr>\n",
              "    <tr>\n",
              "      <th>47</th>\n",
              "      <td>/content/datasets/volume_pt1</td>\n",
              "      <td>volume-6.nii</td>\n",
              "      <td>/content/datasets/segmentations</td>\n",
              "      <td>segmentation-6.nii</td>\n",
              "    </tr>\n",
              "    <tr>\n",
              "      <th>48</th>\n",
              "      <td>/content/datasets/volume_pt1</td>\n",
              "      <td>volume-7.nii</td>\n",
              "      <td>/content/datasets/segmentations</td>\n",
              "      <td>segmentation-7.nii</td>\n",
              "    </tr>\n",
              "    <tr>\n",
              "      <th>49</th>\n",
              "      <td>/content/datasets/volume_pt1</td>\n",
              "      <td>volume-8.nii</td>\n",
              "      <td>/content/datasets/segmentations</td>\n",
              "      <td>segmentation-8.nii</td>\n",
              "    </tr>\n",
              "    <tr>\n",
              "      <th>50</th>\n",
              "      <td>/content/datasets/volume_pt1</td>\n",
              "      <td>volume-9.nii</td>\n",
              "      <td>/content/datasets/segmentations</td>\n",
              "      <td>segmentation-9.nii</td>\n",
              "    </tr>\n",
              "  </tbody>\n",
              "</table>\n",
              "</div>\n",
              "      <button class=\"colab-df-convert\" onclick=\"convertToInteractive('df-affde6d3-d5b6-4466-a9a7-4da8028470db')\"\n",
              "              title=\"Convert this dataframe to an interactive table.\"\n",
              "              style=\"display:none;\">\n",
              "        \n",
              "  <svg xmlns=\"http://www.w3.org/2000/svg\" height=\"24px\"viewBox=\"0 0 24 24\"\n",
              "       width=\"24px\">\n",
              "    <path d=\"M0 0h24v24H0V0z\" fill=\"none\"/>\n",
              "    <path d=\"M18.56 5.44l.94 2.06.94-2.06 2.06-.94-2.06-.94-.94-2.06-.94 2.06-2.06.94zm-11 1L8.5 8.5l.94-2.06 2.06-.94-2.06-.94L8.5 2.5l-.94 2.06-2.06.94zm10 10l.94 2.06.94-2.06 2.06-.94-2.06-.94-.94-2.06-.94 2.06-2.06.94z\"/><path d=\"M17.41 7.96l-1.37-1.37c-.4-.4-.92-.59-1.43-.59-.52 0-1.04.2-1.43.59L10.3 9.45l-7.72 7.72c-.78.78-.78 2.05 0 2.83L4 21.41c.39.39.9.59 1.41.59.51 0 1.02-.2 1.41-.59l7.78-7.78 2.81-2.81c.8-.78.8-2.07 0-2.86zM5.41 20L4 18.59l7.72-7.72 1.47 1.35L5.41 20z\"/>\n",
              "  </svg>\n",
              "      </button>\n",
              "      \n",
              "  <style>\n",
              "    .colab-df-container {\n",
              "      display:flex;\n",
              "      flex-wrap:wrap;\n",
              "      gap: 12px;\n",
              "    }\n",
              "\n",
              "    .colab-df-convert {\n",
              "      background-color: #E8F0FE;\n",
              "      border: none;\n",
              "      border-radius: 50%;\n",
              "      cursor: pointer;\n",
              "      display: none;\n",
              "      fill: #1967D2;\n",
              "      height: 32px;\n",
              "      padding: 0 0 0 0;\n",
              "      width: 32px;\n",
              "    }\n",
              "\n",
              "    .colab-df-convert:hover {\n",
              "      background-color: #E2EBFA;\n",
              "      box-shadow: 0px 1px 2px rgba(60, 64, 67, 0.3), 0px 1px 3px 1px rgba(60, 64, 67, 0.15);\n",
              "      fill: #174EA6;\n",
              "    }\n",
              "\n",
              "    [theme=dark] .colab-df-convert {\n",
              "      background-color: #3B4455;\n",
              "      fill: #D2E3FC;\n",
              "    }\n",
              "\n",
              "    [theme=dark] .colab-df-convert:hover {\n",
              "      background-color: #434B5C;\n",
              "      box-shadow: 0px 1px 3px 1px rgba(0, 0, 0, 0.15);\n",
              "      filter: drop-shadow(0px 1px 2px rgba(0, 0, 0, 0.3));\n",
              "      fill: #FFFFFF;\n",
              "    }\n",
              "  </style>\n",
              "\n",
              "      <script>\n",
              "        const buttonEl =\n",
              "          document.querySelector('#df-affde6d3-d5b6-4466-a9a7-4da8028470db button.colab-df-convert');\n",
              "        buttonEl.style.display =\n",
              "          google.colab.kernel.accessAllowed ? 'block' : 'none';\n",
              "\n",
              "        async function convertToInteractive(key) {\n",
              "          const element = document.querySelector('#df-affde6d3-d5b6-4466-a9a7-4da8028470db');\n",
              "          const dataTable =\n",
              "            await google.colab.kernel.invokeFunction('convertToInteractive',\n",
              "                                                     [key], {});\n",
              "          if (!dataTable) return;\n",
              "\n",
              "          const docLinkHtml = 'Like what you see? Visit the ' +\n",
              "            '<a target=\"_blank\" href=https://colab.research.google.com/notebooks/data_table.ipynb>data table notebook</a>'\n",
              "            + ' to learn more about interactive tables.';\n",
              "          element.innerHTML = '';\n",
              "          dataTable['output_type'] = 'display_data';\n",
              "          await google.colab.output.renderOutput(dataTable, element);\n",
              "          const docLink = document.createElement('div');\n",
              "          docLink.innerHTML = docLinkHtml;\n",
              "          element.appendChild(docLink);\n",
              "        }\n",
              "      </script>\n",
              "    </div>\n",
              "  </div>\n",
              "  "
            ]
          },
          "metadata": {},
          "execution_count": 18
        }
      ],
      "source": [
        "\n",
        "df_files[\"mask_dirname\"] = \"\" ; df_files[\"mask_filename\"] = \"\"\n",
        "\n",
        "for i in range(131):\n",
        "    ct = f\"volume-{i}.nii\"\n",
        "    mask = f\"segmentation-{i}.nii\"\n",
        "    \n",
        "    df_files.loc[df_files['filename'] == ct, 'mask_filename'] = mask\n",
        "    df_files.loc[df_files['filename'] == ct, 'mask_dirname'] = \"/content/datasets/segmentations\"\n",
        "\n",
        "df_files = df_files[df_files.mask_filename != ''].sort_values(by=['filename']).reset_index(drop=True) \n",
        "print(len(df_files))\n",
        "df_files"
      ]
    },
    {
      "cell_type": "code",
      "execution_count": 19,
      "metadata": {
        "execution": {
          "iopub.execute_input": "2020-09-17T10:20:32.388455Z",
          "iopub.status.busy": "2020-09-17T10:20:32.387699Z",
          "iopub.status.idle": "2020-09-17T10:20:32.390699Z",
          "shell.execute_reply": "2020-09-17T10:20:32.390220Z"
        },
        "papermill": {
          "duration": 0.0344,
          "end_time": "2020-09-17T10:20:32.390798",
          "exception": false,
          "start_time": "2020-09-17T10:20:32.356398",
          "status": "completed"
        },
        "tags": [],
        "id": "8UFCV3miig40"
      },
      "outputs": [],
      "source": [
        "def read_nii(filepath):\n",
        "    '''\n",
        "    Reads .nii file and returns pixel array\n",
        "    '''\n",
        "    ct_scan = nib.load(filepath)\n",
        "    array   = ct_scan.get_fdata()\n",
        "    array   = np.rot90(np.array(array))\n",
        "    return(array)"
      ]
    },
    {
      "cell_type": "code",
      "execution_count": 20,
      "metadata": {
        "execution": {
          "iopub.execute_input": "2020-09-17T10:20:32.450884Z",
          "iopub.status.busy": "2020-09-17T10:20:32.450250Z",
          "iopub.status.idle": "2020-09-17T10:20:32.720346Z",
          "shell.execute_reply": "2020-09-17T10:20:32.721140Z"
        },
        "papermill": {
          "duration": 0.304378,
          "end_time": "2020-09-17T10:20:32.721298",
          "exception": false,
          "start_time": "2020-09-17T10:20:32.416920",
          "status": "completed"
        },
        "tags": [],
        "colab": {
          "base_uri": "https://localhost:8080/"
        },
        "id": "WBxxGPG6ig41",
        "outputId": "cef59b40-28c5-4897-f493-5e474bc524d6"
      },
      "outputs": [
        {
          "output_type": "execute_result",
          "data": {
            "text/plain": [
              "((512, 512, 75), (512, 512, 75))"
            ]
          },
          "metadata": {},
          "execution_count": 20
        }
      ],
      "source": [
        "sample = 0\n",
        "sample_ct   = read_nii(df_files.loc[sample,'dirname']+\"/\"+df_files.loc[sample,'filename'])\n",
        "sample_mask  = read_nii(df_files.loc[sample,'mask_dirname']+\"/\"+df_files.loc[sample,'mask_filename'])\n",
        "sample_ct.shape, sample_mask.shape"
      ]
    },
    {
      "cell_type": "code",
      "execution_count": 21,
      "metadata": {
        "execution": {
          "iopub.execute_input": "2020-09-17T10:20:32.780567Z",
          "iopub.status.busy": "2020-09-17T10:20:32.779552Z",
          "iopub.status.idle": "2020-09-17T10:20:32.869973Z",
          "shell.execute_reply": "2020-09-17T10:20:32.870708Z"
        },
        "papermill": {
          "duration": 0.122354,
          "end_time": "2020-09-17T10:20:32.870924",
          "exception": false,
          "start_time": "2020-09-17T10:20:32.748570",
          "status": "completed"
        },
        "tags": [],
        "colab": {
          "base_uri": "https://localhost:8080/"
        },
        "id": "j-DvyWDZig43",
        "outputId": "d688c22d-6cce-402d-b4b3-ce459170a448"
      },
      "outputs": [
        {
          "output_type": "stream",
          "name": "stdout",
          "text": [
            "-3024.0 1410.0\n",
            "0.0 2.0\n"
          ]
        }
      ],
      "source": [
        "print(np.amin(sample_ct), np.amax(sample_ct))\n",
        "print(np.amin(sample_mask), np.amax(sample_mask))"
      ]
    },
    {
      "cell_type": "code",
      "execution_count": 22,
      "metadata": {
        "execution": {
          "iopub.execute_input": "2020-09-17T10:20:32.937029Z",
          "iopub.status.busy": "2020-09-17T10:20:32.936127Z",
          "iopub.status.idle": "2020-09-17T10:20:33.143010Z",
          "shell.execute_reply": "2020-09-17T10:20:33.143626Z"
        },
        "papermill": {
          "duration": 0.24566,
          "end_time": "2020-09-17T10:20:33.143789",
          "exception": false,
          "start_time": "2020-09-17T10:20:32.898129",
          "status": "completed"
        },
        "tags": [],
        "colab": {
          "base_uri": "https://localhost:8080/",
          "height": 269
        },
        "id": "k3x_lDXBig44",
        "outputId": "75e5b6e5-3cc5-4f7f-ae8b-d977c431e254"
      },
      "outputs": [
        {
          "output_type": "display_data",
          "data": {
            "text/plain": [
              "<Figure size 432x288 with 1 Axes>"
            ],
            "image/png": "[encoded data removed]"
          },
          "metadata": {
            "needs_background": "light"
          }
        }
      ],
      "source": [
        "\n",
        "dicom_windows = types.SimpleNamespace(\n",
        "    brain=(80,40),\n",
        "    subdural=(254,100),\n",
        "    stroke=(8,32),\n",
        "    brain_bone=(2800,600),\n",
        "    brain_soft=(375,40),\n",
        "    lungs=(1500,-600),\n",
        "    mediastinum=(350,50),\n",
        "    abdomen_soft=(400,50),\n",
        "    liver=(150,30),\n",
        "    spine_soft=(250,50),\n",
        "    spine_bone=(1800,400),\n",
        "    custom = (200,60)\n",
        ")\n",
        "\n",
        "@patch\n",
        "def windowed(self:Tensor, w, l):\n",
        "    px = self.clone()\n",
        "    px_min = l - w//2\n",
        "    px_max = l + w//2\n",
        "    px[px<px_min] = px_min\n",
        "    px[px>px_max] = px_max\n",
        "    return (px-px_min) / (px_max-px_min)\n",
        "\n",
        "plt.imshow(tensor(sample_ct[...,50].astype(np.float32)).windowed(*dicom_windows.liver), cmap=plt.cm.bone);"
      ]
    },
    {
      "cell_type": "code",
      "execution_count": 23,
      "metadata": {
        "execution": {
          "iopub.execute_input": "2020-09-17T10:20:33.218068Z",
          "iopub.status.busy": "2020-09-17T10:20:33.216319Z",
          "iopub.status.idle": "2020-09-17T10:20:33.218885Z",
          "shell.execute_reply": "2020-09-17T10:20:33.219393Z"
        },
        "papermill": {
          "duration": 0.045986,
          "end_time": "2020-09-17T10:20:33.219519",
          "exception": false,
          "start_time": "2020-09-17T10:20:33.173533",
          "status": "completed"
        },
        "tags": [],
        "id": "Ame9OVgxig45"
      },
      "outputs": [],
      "source": [
        "def plot_sample(array_list, color_map = 'nipy_spectral'):\n",
        " \n",
        "    fig = plt.figure(figsize=(18,15))\n",
        "\n",
        "    plt.subplot(1,4,1)\n",
        "    plt.imshow(array_list[0], cmap='bone')\n",
        "    plt.title('Original Image')\n",
        "    \n",
        "    plt.subplot(1,4,2)\n",
        "    plt.imshow(tensor(array_list[0].astype(np.float32)).windowed(*dicom_windows.liver), cmap='bone');\n",
        "    plt.title('Windowed Image')\n",
        "    \n",
        "    plt.subplot(1,4,3)\n",
        "    plt.imshow(array_list[1], alpha=0.5, cmap=color_map)\n",
        "    plt.title('Mask')\n",
        "    \n",
        "    plt.subplot(1,4,4)\n",
        "    plt.imshow(array_list[0], cmap='bone')\n",
        "    plt.imshow(array_list[1], alpha=0.5, cmap=color_map)\n",
        "    plt.title('Liver & Mask')\n",
        "\n",
        "\n",
        "    plt.show()"
      ]
    },
    {
      "cell_type": "code",
      "execution_count": 24,
      "metadata": {
        "execution": {
          "iopub.execute_input": "2020-09-17T10:20:33.283632Z",
          "iopub.status.busy": "2020-09-17T10:20:33.282644Z",
          "iopub.status.idle": "2020-09-17T10:20:33.936065Z",
          "shell.execute_reply": "2020-09-17T10:20:33.936583Z"
        },
        "papermill": {
          "duration": 0.687943,
          "end_time": "2020-09-17T10:20:33.936722",
          "exception": false,
          "start_time": "2020-09-17T10:20:33.248779",
          "status": "completed"
        },
        "tags": [],
        "colab": {
          "base_uri": "https://localhost:8080/",
          "height": 282
        },
        "id": "hZUU2tshig47",
        "outputId": "ae8d72bd-f78e-46ba-f3ae-d6c96b44a137"
      },
      "outputs": [
        {
          "output_type": "display_data",
          "data": {
            "text/plain": [
              "<Figure size 1296x1080 with 4 Axes>"
            ],
            "image/png": "[encoded data removed]"
          },
          "metadata": {
            "needs_background": "light"
          }
        }
      ],
      "source": [
        "sample=50\n",
        "sample_slice = tensor(sample_ct[...,sample].astype(np.float32))\n",
        "\n",
        "plot_sample([sample_ct[...,sample], sample_mask[...,sample]])"
      ]
    },
    {
      "cell_type": "code",
      "execution_count": 25,
      "metadata": {
        "execution": {
          "iopub.execute_input": "2020-09-17T10:20:34.007851Z",
          "iopub.status.busy": "2020-09-17T10:20:34.007182Z",
          "iopub.status.idle": "2020-09-17T10:20:34.019459Z",
          "shell.execute_reply": "2020-09-17T10:20:34.018967Z"
        },
        "papermill": {
          "duration": 0.050249,
          "end_time": "2020-09-17T10:20:34.019562",
          "exception": false,
          "start_time": "2020-09-17T10:20:33.969313",
          "status": "completed"
        },
        "tags": [],
        "colab": {
          "base_uri": "https://localhost:8080/"
        },
        "id": "6IAiDl_vig48",
        "outputId": "23336e5f-998c-4b5b-dd39-5e92cfc22982"
      },
      "outputs": [
        {
          "output_type": "stream",
          "name": "stdout",
          "text": [
            "[[     0 252049]\n",
            " [     1  10095]]\n"
          ]
        }
      ],
      "source": [
        "\n",
        "mask = Image.fromarray(sample_mask[...,sample].astype('uint8'), mode=\"L\")\n",
        "unique, counts = np.unique(mask, return_counts=True)\n",
        "print( np.array((unique, counts)).T)"
      ]
    },
    {
      "cell_type": "code",
      "execution_count": 26,
      "metadata": {
        "execution": {
          "iopub.execute_input": "2020-09-17T10:20:34.106191Z",
          "iopub.status.busy": "2020-09-17T10:20:34.105042Z",
          "iopub.status.idle": "2020-09-17T10:20:34.259924Z",
          "shell.execute_reply": "2020-09-17T10:20:34.260421Z"
        },
        "papermill": {
          "duration": 0.208373,
          "end_time": "2020-09-17T10:20:34.260558",
          "exception": false,
          "start_time": "2020-09-17T10:20:34.052185",
          "status": "completed"
        },
        "tags": [],
        "colab": {
          "base_uri": "https://localhost:8080/",
          "height": 211
        },
        "id": "zR4sk4Aeig48",
        "outputId": "fc29e5b8-1deb-4db9-e0ee-925dd5de1670"
      },
      "outputs": [
        {
          "output_type": "execute_result",
          "data": {
            "text/plain": [
              "<matplotlib.axes._subplots.AxesSubplot at 0x7f527d29eb80>"
            ]
          },
          "metadata": {},
          "execution_count": 26
        },
        {
          "output_type": "display_data",
          "data": {
            "text/plain": [
              "<Figure size 216x216 with 1 Axes>"
            ],
            "image/png": "[encoded data removed]"
          },
          "metadata": {
            "needs_background": "light"
          }
        }
      ],
      "source": [
        "\n",
        "class TensorCTScan(TensorImageBW): _show_args = {'cmap':'bone'}\n",
        "\n",
        "@patch\n",
        "def freqhist_bins(self:Tensor, n_bins=100):\n",
        "    \"A function to split the range of pixel values into groups, such that each group has around the same number of pixels\"\n",
        "    imsd = self.view(-1).sort()[0]\n",
        "    t = torch.cat([tensor([0.001]),\n",
        "                   torch.arange(n_bins).float()/n_bins+(1/2/n_bins),\n",
        "                   tensor([0.999])])\n",
        "    t = (len(imsd)*t).long()\n",
        "    return imsd[t].unique()\n",
        "    \n",
        "@patch\n",
        "def hist_scaled(self:Tensor, brks=None):\n",
        "    \"Scales a tensor using `freqhist_bins` to values between 0 and 1\"\n",
        "    if self.device.type=='cuda': return self.hist_scaled_pt(brks)\n",
        "    if brks is None: brks = self.freqhist_bins()\n",
        "    ys = np.linspace(0., 1., len(brks))\n",
        "    x = self.numpy().flatten()\n",
        "    x = np.interp(x, brks.numpy(), ys)\n",
        "    return tensor(x).reshape(self.shape).clamp(0.,1.)\n",
        "    \n",
        "    \n",
        "@patch\n",
        "def to_nchan(x:Tensor, wins, bins=None):\n",
        "    res = [x.windowed(*win) for win in wins]\n",
        "    if not isinstance(bins,int) or bins!=0: res.append(x.hist_scaled(bins).clamp(0,1))\n",
        "    dim = [0,1][x.dim()==3]\n",
        "    return TensorCTScan(torch.stack(res, dim=dim))\n",
        "\n",
        "@patch\n",
        "def save_jpg(x:(Tensor), path, wins, bins=None, quality=90):\n",
        "    fn = Path(path).with_suffix('.jpg')\n",
        "    x = (x.to_nchan(wins, bins)*255).byte()\n",
        "    im = Image.fromarray(x.permute(1,2,0).numpy(), mode=['RGB','CMYK'][x.shape[0]==4])\n",
        "    im.save(fn, quality=quality)\n",
        "\n",
        "_,axs=subplots(1,1)\n",
        "\n",
        "sample_slice.save_jpg('test.jpg', [dicom_windows.liver,dicom_windows.custom])\n",
        "show_image(Image.open('test.jpg'), ax=axs[0])\n"
      ]
    },
    {
      "cell_type": "code",
      "execution_count": null,
      "metadata": {
        "execution": {
          "iopub.execute_input": "2020-09-17T10:20:34.343302Z",
          "iopub.status.busy": "2020-09-17T10:20:34.342437Z",
          "iopub.status.idle": "2020-09-17T10:31:09.233494Z",
          "shell.execute_reply": "2020-09-17T10:31:09.234232Z"
        },
        "papermill": {
          "duration": 634.938284,
          "end_time": "2020-09-17T10:31:09.234475",
          "exception": false,
          "start_time": "2020-09-17T10:20:34.296191",
          "status": "completed"
        },
        "tags": [],
        "colab": {
          "base_uri": "https://localhost:8080/",
          "height": 49,
          "referenced_widgets": [
            "609ef955d3e1498ba5f8266e367531d6",
            "909d5b9c65994c118ffbe5f1623c210f",
            "359ad8ec01e04d4ba83968afd037ee8e",
            "d5e99d2b14834b038cb729544455255e",
            "ccb5e04197a54d00972d46316f3bfa83",
            "8716ca2b927345ce87638a957fc8234d",
            "2ab389e8414a454190a7391adb114116",
            "481e772072b240d48063783c6d5a675c",
            "8d439bc499884c8b83b3a50840b93f79",
            "f800d8d6ba2d445faebd58ba504c37f3",
            "42106f713df34b07aa0dd62bbd09353b"
          ]
        },
        "id": "T31v4FbDig5D",
        "outputId": "be9c3781-1a1b-4ced-8e74-d9a0cf78fbfb"
      },
      "outputs": [
        {
          "data": {
            "application/vnd.jupyter.widget-view+json": {
              "model_id": "609ef955d3e1498ba5f8266e367531d6",
              "version_major": 2,
              "version_minor": 0
            },
            "text/plain": [
              "  0%|          | 0/17 [00:00<?, ?it/s]"
            ]
          },
          "metadata": {},
          "output_type": "display_data"
        }
      ],
      "source": [
        "\n",
        "GENERATE_JPG_FILES = True \n",
        "\n",
        "if (GENERATE_JPG_FILES) :\n",
        "    \n",
        "    path = Path(\".\")\n",
        "\n",
        "    os.makedirs('train_images',exist_ok=True)\n",
        "    os.makedirs('train_masks',exist_ok=True)\n",
        "\n",
        "    for ii in tqdm(range(0,len(df_files),3)): \n",
        "        curr_ct        = read_nii(df_files.loc[ii,'dirname']+\"/\"+df_files.loc[ii,'filename'])\n",
        "        curr_mask      = read_nii(\"/content/datasets/segmentations/segmentation-0.nii\")\n",
        "        curr_file_name = str(df_files.loc[ii,'filename']).split('.')[0]\n",
        "        curr_dim       = curr_ct.shape[2]\n",
        "\n",
        "        for curr_slice in range(0,curr_dim,2):\n",
        "            data = tensor(curr_ct[...,curr_slice].astype(np.float32))\n",
        "            mask = Image.fromarray(curr_mask[...,74].astype('uint8'), mode=\"L\")\n",
        "            data.save_jpg(f\"train_images/{curr_file_name}_slice_{curr_slice}.jpg\", [dicom_windows.liver,dicom_windows.custom])\n",
        "            mask.save(f\"train_masks/{curr_file_name}_slice_{curr_slice}_mask.png\")\n",
        "else:\n",
        "    \n",
        "    path = Path('/content/datasets/segmentations/liver-segmentation-with-fastai-v2') # read jpg from saved kernel output"
      ]
    },
    {
      "cell_type": "markdown",
      "metadata": {
        "papermill": {
          "duration": 0.036607,
          "end_time": "2020-09-17T10:31:09.310409",
          "exception": false,
          "start_time": "2020-09-17T10:31:09.273802",
          "status": "completed"
        },
        "tags": [],
        "id": "mugbTULWig5E"
      },
      "source": [
        "# MODEL TRAINING"
      ]
    },
    {
      "cell_type": "code",
      "execution_count": null,
      "metadata": {
        "execution": {
          "iopub.execute_input": "2020-09-17T10:31:09.400348Z",
          "iopub.status.busy": "2020-09-17T10:31:09.399524Z",
          "iopub.status.idle": "2020-09-17T10:31:09.584315Z",
          "shell.execute_reply": "2020-09-17T10:31:09.583725Z"
        },
        "papermill": {
          "duration": 0.231151,
          "end_time": "2020-09-17T10:31:09.584435",
          "exception": false,
          "start_time": "2020-09-17T10:31:09.353284",
          "status": "completed"
        },
        "tags": [],
        "id": "9Gy4y9Wuig5K"
      },
      "outputs": [],
      "source": [
        "bs = 16\n",
        "im_size = 128\n",
        "\n",
        "codes = np.array([\"background\",\"liver\",\"tumor\"])\n",
        "    \n",
        "def get_x(fname:Path): return fname\n",
        "def label_func(x): return path/'train_masks'/f'{x.stem}_mask.png'\n",
        "\n",
        "tfms = [IntToFloatTensor(),Normalize()]\n",
        "\n",
        "db = DataBlock(blocks=(ImageBlock(),MaskBlock(codes)), \n",
        "               batch_tfms=tfms,\n",
        "               splitter=RandomSplitter(),\n",
        "               item_tfms=[Resize(im_size)],\n",
        "               get_items=get_image_files,\n",
        "               get_y=label_func\n",
        "              )\n",
        "\n",
        "ds = db.datasets(source=path/'train_images')\n"
      ]
    },
    {
      "cell_type": "code",
      "execution_count": null,
      "metadata": {
        "execution": {
          "iopub.execute_input": "2020-09-17T10:31:09.668306Z",
          "iopub.status.busy": "2020-09-17T10:31:09.667413Z",
          "iopub.status.idle": "2020-09-17T10:31:09.846780Z",
          "shell.execute_reply": "2020-09-17T10:31:09.847472Z"
        },
        "papermill": {
          "duration": 0.224794,
          "end_time": "2020-09-17T10:31:09.847616",
          "exception": false,
          "start_time": "2020-09-17T10:31:09.622822",
          "status": "completed"
        },
        "tags": [],
        "id": "46ugTzb0ig5L"
      },
      "outputs": [],
      "source": [
        "idx=20\n",
        "imgs = [ds[idx][0],ds[idx][1]]\n",
        "fig,axs = plt.subplots(1, 2)\n",
        "for i,ax in enumerate(axs.flatten()):\n",
        "    ax.axis('off')\n",
        "    ax.imshow(imgs[i]) "
      ]
    },
    {
      "cell_type": "code",
      "execution_count": null,
      "metadata": {
        "execution": {
          "iopub.execute_input": "2020-09-17T10:31:09.939468Z",
          "iopub.status.busy": "2020-09-17T10:31:09.938646Z",
          "iopub.status.idle": "2020-09-17T10:31:09.959487Z",
          "shell.execute_reply": "2020-09-17T10:31:09.958878Z"
        },
        "papermill": {
          "duration": 0.068728,
          "end_time": "2020-09-17T10:31:09.959612",
          "exception": false,
          "start_time": "2020-09-17T10:31:09.890884",
          "status": "completed"
        },
        "tags": [],
        "id": "O8FZeJbTig5M"
      },
      "outputs": [],
      "source": [
        "unique, counts = np.unique(array(ds[idx][1]), return_counts=True)\n",
        "\n",
        "print( np.array((unique, counts)).T)\n"
      ]
    },
    {
      "cell_type": "code",
      "execution_count": null,
      "metadata": {
        "execution": {
          "iopub.execute_input": "2020-09-17T10:31:10.049785Z",
          "iopub.status.busy": "2020-09-17T10:31:10.048920Z",
          "iopub.status.idle": "2020-09-17T10:31:20.077773Z",
          "shell.execute_reply": "2020-09-17T10:31:20.078267Z"
        },
        "papermill": {
          "duration": 10.074493,
          "end_time": "2020-09-17T10:31:20.078414",
          "exception": false,
          "start_time": "2020-09-17T10:31:10.003921",
          "status": "completed"
        },
        "tags": [],
        "id": "XdQk5moEig5M"
      },
      "outputs": [],
      "source": [
        "dls = db.dataloaders(path/'train_images',bs = bs) \n",
        "dls.show_batch()"
      ]
    },
    {
      "cell_type": "code",
      "execution_count": null,
      "metadata": {
        "execution": {
          "iopub.execute_input": "2020-09-17T10:31:20.179754Z",
          "iopub.status.busy": "2020-09-17T10:31:20.178995Z",
          "iopub.status.idle": "2020-09-17T10:31:20.182377Z",
          "shell.execute_reply": "2020-09-17T10:31:20.182817Z"
        },
        "papermill": {
          "duration": 0.05798,
          "end_time": "2020-09-17T10:31:20.182943",
          "exception": false,
          "start_time": "2020-09-17T10:31:20.124963",
          "status": "completed"
        },
        "tags": [],
        "id": "G7xyUJUNig5O"
      },
      "outputs": [],
      "source": [
        "def foreground_acc(inp, targ, bkg_idx=0, axis=1):  \n",
        "    \"Computes non-background accuracy for multiclass segmentation\"\n",
        "    targ = targ.squeeze(1)\n",
        "    mask = targ != bkg_idx\n",
        "    return (inp.argmax(dim=axis)[mask]==targ[mask]).float().mean() \n",
        "\n",
        "def cust_foreground_acc(inp, targ):  \n",
        "    return foreground_acc(inp=inp, targ=targ, bkg_idx=3, axis=1) "
      ]
    },
    {
      "cell_type": "code",
      "execution_count": null,
      "metadata": {
        "execution": {
          "iopub.execute_input": "2020-09-17T10:31:20.295552Z",
          "iopub.status.busy": "2020-09-17T10:31:20.294822Z",
          "iopub.status.idle": "2020-09-17T10:31:24.879631Z",
          "shell.execute_reply": "2020-09-17T10:31:24.879073Z"
        },
        "papermill": {
          "duration": 4.649991,
          "end_time": "2020-09-17T10:31:24.879751",
          "exception": false,
          "start_time": "2020-09-17T10:31:20.229760",
          "status": "completed"
        },
        "tags": [],
        "id": "R8-AYJqiig5O"
      },
      "outputs": [],
      "source": [
        "learn = unet_learner(dls, resnet34, loss_func=CrossEntropyLossFlat(axis=1), metrics=[foreground_acc, cust_foreground_acc]) "
      ]
    },
    {
      "cell_type": "code",
      "execution_count": null,
      "metadata": {
        "execution": {
          "iopub.execute_input": "2020-09-17T10:31:25.087912Z",
          "iopub.status.busy": "2020-09-17T10:31:25.087147Z",
          "iopub.status.idle": "2020-09-17T10:41:38.763294Z",
          "shell.execute_reply": "2020-09-17T10:41:38.762579Z"
        },
        "papermill": {
          "duration": 613.73016,
          "end_time": "2020-09-17T10:41:38.763443",
          "exception": false,
          "start_time": "2020-09-17T10:31:25.033283",
          "status": "completed"
        },
        "tags": [],
        "id": "WYY7tYs1ig5P"
      },
      "outputs": [],
      "source": [
        "learn.fine_tune(1, wd=0.1, cbs=SaveModelCallback() )"
      ]
    },
    {
      "cell_type": "code",
      "execution_count": null,
      "metadata": {
        "execution": {
          "iopub.execute_input": "2020-09-17T10:41:38.878113Z",
          "iopub.status.busy": "2020-09-17T10:41:38.877191Z",
          "iopub.status.idle": "2020-09-17T10:41:39.530716Z",
          "shell.execute_reply": "2020-09-17T10:41:39.531281Z"
        },
        "papermill": {
          "duration": 0.715437,
          "end_time": "2020-09-17T10:41:39.531453",
          "exception": false,
          "start_time": "2020-09-17T10:41:38.816016",
          "status": "completed"
        },
        "tags": [],
        "id": "LYY-a2TAig5Q"
      },
      "outputs": [],
      "source": [
        "learn.show_results()"
      ]
    },
    {
      "cell_type": "code",
      "execution_count": null,
      "metadata": {
        "execution": {
          "iopub.execute_input": "2020-09-17T10:41:39.671067Z",
          "iopub.status.busy": "2020-09-17T10:41:39.670046Z",
          "iopub.status.idle": "2020-09-17T10:41:40.241416Z",
          "shell.execute_reply": "2020-09-17T10:41:40.240838Z"
        },
        "papermill": {
          "duration": 0.650879,
          "end_time": "2020-09-17T10:41:40.241532",
          "exception": false,
          "start_time": "2020-09-17T10:41:39.590653",
          "status": "completed"
        },
        "tags": [],
        "id": "rXQButK9ig5R"
      },
      "outputs": [],
      "source": [
        "\n",
        "learn.export(path/f'Liver_segmentation')"
      ]
    },
    {
      "cell_type": "markdown",
      "metadata": {
        "papermill": {
          "duration": 0.056873,
          "end_time": "2020-09-17T10:41:40.480160",
          "exception": false,
          "start_time": "2020-09-17T10:41:40.423287",
          "status": "completed"
        },
        "tags": [],
        "id": "-PZf-EWEig5R"
      },
      "source": [
        "# TESTING MODEL"
      ]
    },
    {
      "cell_type": "code",
      "execution_count": null,
      "metadata": {
        "execution": {
          "iopub.execute_input": "2020-09-17T10:41:40.603734Z",
          "iopub.status.busy": "2020-09-17T10:41:40.602589Z",
          "iopub.status.idle": "2020-09-17T10:41:40.923756Z",
          "shell.execute_reply": "2020-09-17T10:41:40.922711Z"
        },
        "papermill": {
          "duration": 0.387006,
          "end_time": "2020-09-17T10:41:40.923896",
          "exception": false,
          "start_time": "2020-09-17T10:41:40.536890",
          "status": "completed"
        },
        "tags": [],
        "id": "H_o_xk4_ig5S"
      },
      "outputs": [],
      "source": [
        "\n",
        "if (GENERATE_JPG_FILES) :\n",
        "    \n",
        "    tfms = [Resize(im_size), IntToFloatTensor(),Normalize()]\n",
        "    learn0               = load_learner(path/f'Liver_segmentation',cpu=False )\n",
        "    learn0.dls.transform = tfms"
      ]
    },
    {
      "cell_type": "code",
      "execution_count": null,
      "metadata": {
        "execution": {
          "iopub.execute_input": "2020-09-17T10:41:41.056342Z",
          "iopub.status.busy": "2020-09-17T10:41:41.055494Z",
          "iopub.status.idle": "2020-09-17T10:41:41.059363Z",
          "shell.execute_reply": "2020-09-17T10:41:41.058694Z"
        },
        "papermill": {
          "duration": 0.076101,
          "end_time": "2020-09-17T10:41:41.059470",
          "exception": false,
          "start_time": "2020-09-17T10:41:40.983369",
          "status": "completed"
        },
        "tags": [],
        "id": "5UKi9xAjig5S"
      },
      "outputs": [],
      "source": [
        "def nii_tfm(fn,wins): \n",
        "\n",
        "    test_nii  = read_nii(fn)\n",
        "    curr_dim  = test_nii.shape[2]\n",
        "    slices = []\n",
        "    \n",
        "    for curr_slice in range(curr_dim):\n",
        "        data = tensor(test_nii[...,curr_slice].astype(np.float32))\n",
        "        data = (data.to_nchan(wins)*255).byte()\n",
        "        slices.append(TensorImage(data))\n",
        "                      \n",
        "    return slices "
      ]
    },
    {
      "cell_type": "code",
      "execution_count": null,
      "metadata": {
        "execution": {
          "iopub.execute_input": "2020-09-17T10:41:41.185516Z",
          "iopub.status.busy": "2020-09-17T10:41:41.184650Z",
          "iopub.status.idle": "2020-09-17T10:41:49.995815Z",
          "shell.execute_reply": "2020-09-17T10:41:49.995026Z"
        },
        "papermill": {
          "duration": 8.877605,
          "end_time": "2020-09-17T10:41:49.995953",
          "exception": false,
          "start_time": "2020-09-17T10:41:41.118348",
          "status": "completed"
        },
        "tags": [],
        "id": "IsrQdCXMig5V"
      },
      "outputs": [],
      "source": [
        "tst = 20\n",
        "\n",
        "test_nii   = read_nii(df_files.loc[tst,'dirname']+\"/\"+df_files.loc[tst,'filename'])\n",
        "test_mask  = read_nii(df_files.loc[tst,'mask_dirname']+\"/\"+df_files.loc[tst,'mask_filename'])\n",
        "print(test_nii.shape)\n",
        "\n",
        "test_slice_idx = 500\n",
        "\n",
        "sample_slice = tensor(test_nii[...,test_slice_idx].astype(np.float32))\n",
        "\n",
        "plot_sample([test_nii[...,test_slice_idx], test_mask[...,test_slice_idx]])"
      ]
    },
    {
      "cell_type": "code",
      "execution_count": null,
      "metadata": {
        "execution": {
          "iopub.execute_input": "2020-09-17T10:41:50.154399Z",
          "iopub.status.busy": "2020-09-17T10:41:50.153478Z",
          "iopub.status.idle": "2020-09-17T10:42:29.803419Z",
          "shell.execute_reply": "2020-09-17T10:42:29.804090Z"
        },
        "papermill": {
          "duration": 39.726522,
          "end_time": "2020-09-17T10:42:29.804300",
          "exception": false,
          "start_time": "2020-09-17T10:41:50.077778",
          "status": "completed"
        },
        "tags": [],
        "id": "-UARqBYfig5V"
      },
      "outputs": [],
      "source": [
        "\n",
        "test_files = nii_tfm(df_files.loc[tst,'dirname']+\"/\"+df_files.loc[tst,'filename'],[dicom_windows.liver, dicom_windows.custom])\n",
        "print(\"Number of test slices: \",len(test_files))"
      ]
    },
    {
      "cell_type": "code",
      "execution_count": null,
      "metadata": {
        "execution": {
          "iopub.execute_input": "2020-09-17T10:42:29.945500Z",
          "iopub.status.busy": "2020-09-17T10:42:29.944473Z",
          "iopub.status.idle": "2020-09-17T10:42:30.093734Z",
          "shell.execute_reply": "2020-09-17T10:42:30.094370Z"
        },
        "papermill": {
          "duration": 0.224064,
          "end_time": "2020-09-17T10:42:30.094508",
          "exception": false,
          "start_time": "2020-09-17T10:42:29.870444",
          "status": "completed"
        },
        "tags": [],
        "id": "3EXdjxr3ig5W"
      },
      "outputs": [],
      "source": [
        "\n",
        "show_image(test_files[test_slice_idx])"
      ]
    },
    {
      "cell_type": "code",
      "execution_count": null,
      "metadata": {
        "execution": {
          "iopub.execute_input": "2020-09-17T10:42:30.264315Z",
          "iopub.status.busy": "2020-09-17T10:42:30.259249Z",
          "iopub.status.idle": "2020-09-17T10:42:39.403413Z",
          "shell.execute_reply": "2020-09-17T10:42:39.402850Z"
        },
        "papermill": {
          "duration": 9.239444,
          "end_time": "2020-09-17T10:42:39.403540",
          "exception": false,
          "start_time": "2020-09-17T10:42:30.164096",
          "status": "completed"
        },
        "tags": [],
        "id": "GEoN1YpNig5W"
      },
      "outputs": [],
      "source": [
        "\n",
        "test_dl = learn0.dls.test_dl(test_files)\n",
        "preds, y = learn0.get_preds(dl=test_dl)\n",
        "\n",
        "predicted_mask = np.argmax(preds, axis=1)\n",
        "plt.imshow(predicted_mask[test_slice_idx])"
      ]
    },
    {
      "cell_type": "code",
      "execution_count": null,
      "metadata": {
        "execution": {
          "iopub.execute_input": "2020-09-17T10:42:39.553408Z",
          "iopub.status.busy": "2020-09-17T10:42:39.550943Z",
          "iopub.status.idle": "2020-09-17T10:42:39.557319Z",
          "shell.execute_reply": "2020-09-17T10:42:39.556733Z"
        },
        "papermill": {
          "duration": 0.080409,
          "end_time": "2020-09-17T10:42:39.557422",
          "exception": false,
          "start_time": "2020-09-17T10:42:39.477013",
          "status": "completed"
        },
        "tags": [],
        "id": "PgGCzeSjig5X"
      },
      "outputs": [],
      "source": [
        "a=np.array(predicted_mask[test_slice_idx])\n",
        "np.amin(a),np.amax(a),"
      ]
    },
    {
      "cell_type": "code",
      "execution_count": null,
      "metadata": {
        "id": "5hHY-5AFig5Z"
      },
      "outputs": [],
      "source": []
    }
  ],
  "metadata": {
    "kernelspec": {
      "display_name": "Python 3",
      "language": "python",
      "name": "python3"
    },
    "language_info": {
      "codemirror_mode": {
        "name": "ipython",
        "version": 3
      },
      "file_extension": ".py",
      "mimetype": "text/x-python",
      "name": "python",
      "nbconvert_exporter": "python",
      "pygments_lexer": "ipython3",
      "version": "3.10.4"
    },
    "papermill": {
      "duration": 1440.43809,
      "end_time": "2020-09-17T10:42:41.266080",
      "environment_variables": {},
      "exception": null,
      "input_path": "__notebook__.ipynb",
      "output_path": "__notebook__.ipynb",
      "parameters": {},
      "start_time": "2020-09-17T10:18:40.827990",
      "version": "2.1.0"
    },
    "vscode": {
      "interpreter": {
        "hash": "40e2b18caf3c85caec34b721dfd378434685bc8f17c5becf23fb98fb40264cbb"
      }
    },
    "widgets": {
      "application/vnd.jupyter.widget-state+json": {
        "609ef955d3e1498ba5f8266e367531d6": {
          "model_module": "@jupyter-widgets/controls",
          "model_name": "HBoxModel",
          "model_module_version": "1.5.0",
          "state": {
            "_dom_classes": [],
            "_model_module": "@jupyter-widgets/controls",
            "_model_module_version": "1.5.0",
            "_model_name": "HBoxModel",
            "_view_count": null,
            "_view_module": "@jupyter-widgets/controls",
            "_view_module_version": "1.5.0",
            "_view_name": "HBoxView",
            "box_style": "",
            "children": [
              "IPY_MODEL_909d5b9c65994c118ffbe5f1623c210f",
              "IPY_MODEL_359ad8ec01e04d4ba83968afd037ee8e",
              "IPY_MODEL_d5e99d2b14834b038cb729544455255e"
            ],
            "layout": "IPY_MODEL_ccb5e04197a54d00972d46316f3bfa83"
          }
        },
        "909d5b9c65994c118ffbe5f1623c210f": {
          "model_module": "@jupyter-widgets/controls",
          "model_name": "HTMLModel",
          "model_module_version": "1.5.0",
          "state": {
            "_dom_classes": [],
            "_model_module": "@jupyter-widgets/controls",
            "_model_module_version": "1.5.0",
            "_model_name": "HTMLModel",
            "_view_count": null,
            "_view_module": "@jupyter-widgets/controls",
            "_view_module_version": "1.5.0",
            "_view_name": "HTMLView",
            "description": "",
            "description_tooltip": null,
            "layout": "IPY_MODEL_8716ca2b927345ce87638a957fc8234d",
            "placeholder": "​",
            "style": "IPY_MODEL_2ab389e8414a454190a7391adb114116",
            "value": " 88%"
          }
        },
        "359ad8ec01e04d4ba83968afd037ee8e": {
          "model_module": "@jupyter-widgets/controls",
          "model_name": "FloatProgressModel",
          "model_module_version": "1.5.0",
          "state": {
            "_dom_classes": [],
            "_model_module": "@jupyter-widgets/controls",
            "_model_module_version": "1.5.0",
            "_model_name": "FloatProgressModel",
            "_view_count": null,
            "_view_module": "@jupyter-widgets/controls",
            "_view_module_version": "1.5.0",
            "_view_name": "ProgressView",
            "bar_style": "",
            "description": "",
            "description_tooltip": null,
            "layout": "IPY_MODEL_481e772072b240d48063783c6d5a675c",
            "max": 17,
            "min": 0,
            "orientation": "horizontal",
            "style": "IPY_MODEL_8d439bc499884c8b83b3a50840b93f79",
            "value": 15
          }
        },
        "d5e99d2b14834b038cb729544455255e": {
          "model_module": "@jupyter-widgets/controls",
          "model_name": "HTMLModel",
          "model_module_version": "1.5.0",
          "state": {
            "_dom_classes": [],
            "_model_module": "@jupyter-widgets/controls",
            "_model_module_version": "1.5.0",
            "_model_name": "HTMLModel",
            "_view_count": null,
            "_view_module": "@jupyter-widgets/controls",
            "_view_module_version": "1.5.0",
            "_view_name": "HTMLView",
            "description": "",
            "description_tooltip": null,
            "layout": "IPY_MODEL_f800d8d6ba2d445faebd58ba504c37f3",
            "placeholder": "​",
            "style": "IPY_MODEL_42106f713df34b07aa0dd62bbd09353b",
            "value": " 15/17 [02:33&lt;00:11,  5.73s/it]"
          }
        },
        "ccb5e04197a54d00972d46316f3bfa83": {
          "model_module": "@jupyter-widgets/base",
          "model_name": "LayoutModel",
          "model_module_version": "1.2.0",
          "state": {
            "_model_module": "@jupyter-widgets/base",
            "_model_module_version": "1.2.0",
            "_model_name": "LayoutModel",
            "_view_count": null,
            "_view_module": "@jupyter-widgets/base",
            "_view_module_version": "1.2.0",
            "_view_name": "LayoutView",
            "align_content": null,
            "align_items": null,
            "align_self": null,
            "border": null,
            "bottom": null,
            "display": null,
            "flex": null,
            "flex_flow": null,
            "grid_area": null,
            "grid_auto_columns": null,
            "grid_auto_flow": null,
            "grid_auto_rows": null,
            "grid_column": null,
            "grid_gap": null,
            "grid_row": null,
            "grid_template_areas": null,
            "grid_template_columns": null,
            "grid_template_rows": null,
            "height": null,
            "justify_content": null,
            "justify_items": null,
            "left": null,
            "margin": null,
            "max_height": null,
            "max_width": null,
            "min_height": null,
            "min_width": null,
            "object_fit": null,
            "object_position": null,
            "order": null,
            "overflow": null,
            "overflow_x": null,
            "overflow_y": null,
            "padding": null,
            "right": null,
            "top": null,
            "visibility": null,
            "width": null
          }
        },
        "8716ca2b927345ce87638a957fc8234d": {
          "model_module": "@jupyter-widgets/base",
          "model_name": "LayoutModel",
          "model_module_version": "1.2.0",
          "state": {
            "_model_module": "@jupyter-widgets/base",
            "_model_module_version": "1.2.0",
            "_model_name": "LayoutModel",
            "_view_count": null,
            "_view_module": "@jupyter-widgets/base",
            "_view_module_version": "1.2.0",
            "_view_name": "LayoutView",
            "align_content": null,
            "align_items": null,
            "align_self": null,
            "border": null,
            "bottom": null,
            "display": null,
            "flex": null,
            "flex_flow": null,
            "grid_area": null,
            "grid_auto_columns": null,
            "grid_auto_flow": null,
            "grid_auto_rows": null,
            "grid_column": null,
            "grid_gap": null,
            "grid_row": null,
            "grid_template_areas": null,
            "grid_template_columns": null,
            "grid_template_rows": null,
            "height": null,
            "justify_content": null,
            "justify_items": null,
            "left": null,
            "margin": null,
            "max_height": null,
            "max_width": null,
            "min_height": null,
            "min_width": null,
            "object_fit": null,
            "object_position": null,
            "order": null,
            "overflow": null,
            "overflow_x": null,
            "overflow_y": null,
            "padding": null,
            "right": null,
            "top": null,
            "visibility": null,
            "width": null
          }
        },
        "2ab389e8414a454190a7391adb114116": {
          "model_module": "@jupyter-widgets/controls",
          "model_name": "DescriptionStyleModel",
          "model_module_version": "1.5.0",
          "state": {
            "_model_module": "@jupyter-widgets/controls",
            "_model_module_version": "1.5.0",
            "_model_name": "DescriptionStyleModel",
            "_view_count": null,
            "_view_module": "@jupyter-widgets/base",
            "_view_module_version": "1.2.0",
            "_view_name": "StyleView",
            "description_width": ""
          }
        },
        "481e772072b240d48063783c6d5a675c": {
          "model_module": "@jupyter-widgets/base",
          "model_name": "LayoutModel",
          "model_module_version": "1.2.0",
          "state": {
            "_model_module": "@jupyter-widgets/base",
            "_model_module_version": "1.2.0",
            "_model_name": "LayoutModel",
            "_view_count": null,
            "_view_module": "@jupyter-widgets/base",
            "_view_module_version": "1.2.0",
            "_view_name": "LayoutView",
            "align_content": null,
            "align_items": null,
            "align_self": null,
            "border": null,
            "bottom": null,
            "display": null,
            "flex": null,
            "flex_flow": null,
            "grid_area": null,
            "grid_auto_columns": null,
            "grid_auto_flow": null,
            "grid_auto_rows": null,
            "grid_column": null,
            "grid_gap": null,
            "grid_row": null,
            "grid_template_areas": null,
            "grid_template_columns": null,
            "grid_template_rows": null,
            "height": null,
            "justify_content": null,
            "justify_items": null,
            "left": null,
            "margin": null,
            "max_height": null,
            "max_width": null,
            "min_height": null,
            "min_width": null,
            "object_fit": null,
            "object_position": null,
            "order": null,
            "overflow": null,
            "overflow_x": null,
            "overflow_y": null,
            "padding": null,
            "right": null,
            "top": null,
            "visibility": null,
            "width": null
          }
        },
        "8d439bc499884c8b83b3a50840b93f79": {
          "model_module": "@jupyter-widgets/controls",
          "model_name": "ProgressStyleModel",
          "model_module_version": "1.5.0",
          "state": {
            "_model_module": "@jupyter-widgets/controls",
            "_model_module_version": "1.5.0",
            "_model_name": "ProgressStyleModel",
            "_view_count": null,
            "_view_module": "@jupyter-widgets/base",
            "_view_module_version": "1.2.0",
            "_view_name": "StyleView",
            "bar_color": null,
            "description_width": ""
          }
        },
        "f800d8d6ba2d445faebd58ba504c37f3": {
          "model_module": "@jupyter-widgets/base",
          "model_name": "LayoutModel",
          "model_module_version": "1.2.0",
          "state": {
            "_model_module": "@jupyter-widgets/base",
            "_model_module_version": "1.2.0",
            "_model_name": "LayoutModel",
            "_view_count": null,
            "_view_module": "@jupyter-widgets/base",
            "_view_module_version": "1.2.0",
            "_view_name": "LayoutView",
            "align_content": null,
            "align_items": null,
            "align_self": null,
            "border": null,
            "bottom": null,
            "display": null,
            "flex": null,
            "flex_flow": null,
            "grid_area": null,
            "grid_auto_columns": null,
            "grid_auto_flow": null,
            "grid_auto_rows": null,
            "grid_column": null,
            "grid_gap": null,
            "grid_row": null,
            "grid_template_areas": null,
            "grid_template_columns": null,
            "grid_template_rows": null,
            "height": null,
            "justify_content": null,
            "justify_items": null,
            "left": null,
            "margin": null,
            "max_height": null,
            "max_width": null,
            "min_height": null,
            "min_width": null,
            "object_fit": null,
            "object_position": null,
            "order": null,
            "overflow": null,
            "overflow_x": null,
            "overflow_y": null,
            "padding": null,
            "right": null,
            "top": null,
            "visibility": null,
            "width": null
          }
        },
        "42106f713df34b07aa0dd62bbd09353b": {
          "model_module": "@jupyter-widgets/controls",
          "model_name": "DescriptionStyleModel",
          "model_module_version": "1.5.0",
          "state": {
            "_model_module": "@jupyter-widgets/controls",
            "_model_module_version": "1.5.0",
            "_model_name": "DescriptionStyleModel",
            "_view_count": null,
            "_view_module": "@jupyter-widgets/base",
            "_view_module_version": "1.2.0",
            "_view_name": "StyleView",
            "description_width": ""
          }
        }
      }
    },
    "colab": {
      "provenance": []
    }
  },
  "nbformat": 4,
  "nbformat_minor": 0
}